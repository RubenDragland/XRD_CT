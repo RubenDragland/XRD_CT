{
 "cells": [
  {
   "cell_type": "code",
   "execution_count": 99,
   "metadata": {},
   "outputs": [
    {
     "name": "stdout",
     "output_type": "stream",
     "text": [
      "Warning: Cannot change to a different GUI toolkit: notebook. Using qt instead.\n",
      "The autoreload extension is already loaded. To reload it, use:\n",
      "  %reload_ext autoreload\n"
     ]
    }
   ],
   "source": [
    "import numpy as np\n",
    "import matplotlib.pyplot as plt\n",
    "%matplotlib notebook\n",
    "from plots import *\n",
    "\n",
    "%load_ext autoreload\n",
    "%autoreload 2"
   ]
  },
  {
   "cell_type": "code",
   "execution_count": 98,
   "metadata": {},
   "outputs": [
    {
     "data": {
      "text/plain": [
       "(<Figure size 800x600 with 1 Axes>, <Axes3DSubplot:>)"
      ]
     },
     "execution_count": 98,
     "metadata": {},
     "output_type": "execute_result"
    }
   ],
   "source": [
    "x = np.linspace(-1.69,1.69,100)\n",
    "y = np.linspace(-1.69,1.69,100)\n",
    "\n",
    "plot_3D_GD(GD_cost_func, x, y)"
   ]
  },
  {
   "cell_type": "code",
   "execution_count": 100,
   "metadata": {},
   "outputs": [
    {
     "name": "stdout",
     "output_type": "stream",
     "text": [
      "tensor([-1.,  1.], dtype=torch.float64, requires_grad=True)\n",
      "tensor([-0.9978,  1.0094], dtype=torch.float64, requires_grad=True)\n",
      "tensor([-0.9956,  1.0187], dtype=torch.float64, requires_grad=True)\n",
      "tensor([-0.9932,  1.0280], dtype=torch.float64, requires_grad=True)\n",
      "tensor([-0.9907,  1.0373], dtype=torch.float64, requires_grad=True)\n",
      "tensor([-0.9880,  1.0465], dtype=torch.float64, requires_grad=True)\n",
      "tensor([-0.9853,  1.0556], dtype=torch.float64, requires_grad=True)\n",
      "tensor([-0.9824,  1.0647], dtype=torch.float64, requires_grad=True)\n",
      "tensor([-0.9795,  1.0737], dtype=torch.float64, requires_grad=True)\n",
      "tensor([-0.9764,  1.0826], dtype=torch.float64, requires_grad=True)\n",
      "tensor([-0.9732,  1.0915], dtype=torch.float64, requires_grad=True)\n",
      "tensor([-0.9698,  1.1004], dtype=torch.float64, requires_grad=True)\n",
      "tensor([-0.9664,  1.1091], dtype=torch.float64, requires_grad=True)\n",
      "tensor([-0.9628,  1.1178], dtype=torch.float64, requires_grad=True)\n",
      "tensor([-0.9591,  1.1264], dtype=torch.float64, requires_grad=True)\n",
      "tensor([-0.9553,  1.1350], dtype=torch.float64, requires_grad=True)\n",
      "tensor([-0.9514,  1.1435], dtype=torch.float64, requires_grad=True)\n",
      "tensor([-0.9473,  1.1519], dtype=torch.float64, requires_grad=True)\n",
      "tensor([-0.9431,  1.1602], dtype=torch.float64, requires_grad=True)\n",
      "tensor([-0.9388,  1.1685], dtype=torch.float64, requires_grad=True)\n",
      "tensor([-0.9344,  1.1767], dtype=torch.float64, requires_grad=True)\n",
      "tensor([-0.9299,  1.1848], dtype=torch.float64, requires_grad=True)\n",
      "tensor([-0.9252,  1.1928], dtype=torch.float64, requires_grad=True)\n",
      "tensor([-0.9205,  1.2008], dtype=torch.float64, requires_grad=True)\n",
      "tensor([-0.9156,  1.2086], dtype=torch.float64, requires_grad=True)\n",
      "tensor([-0.9106,  1.2164], dtype=torch.float64, requires_grad=True)\n",
      "tensor([-0.9054,  1.2241], dtype=torch.float64, requires_grad=True)\n",
      "tensor([-0.9002,  1.2318], dtype=torch.float64, requires_grad=True)\n",
      "tensor([-0.8948,  1.2393], dtype=torch.float64, requires_grad=True)\n",
      "tensor([-0.8894,  1.2468], dtype=torch.float64, requires_grad=True)\n",
      "tensor([-0.8838,  1.2542], dtype=torch.float64, requires_grad=True)\n",
      "tensor([-0.8781,  1.2615], dtype=torch.float64, requires_grad=True)\n",
      "tensor([-0.8723,  1.2687], dtype=torch.float64, requires_grad=True)\n",
      "tensor([-0.8664,  1.2759], dtype=torch.float64, requires_grad=True)\n",
      "tensor([-0.8603,  1.2830], dtype=torch.float64, requires_grad=True)\n",
      "tensor([-0.8542,  1.2900], dtype=torch.float64, requires_grad=True)\n",
      "tensor([-0.8479,  1.2969], dtype=torch.float64, requires_grad=True)\n",
      "tensor([-0.8416,  1.3037], dtype=torch.float64, requires_grad=True)\n",
      "tensor([-0.8351,  1.3105], dtype=torch.float64, requires_grad=True)\n",
      "tensor([-0.8286,  1.3171], dtype=torch.float64, requires_grad=True)\n",
      "tensor([-0.8219,  1.3237], dtype=torch.float64, requires_grad=True)\n",
      "tensor([-0.8151,  1.3303], dtype=torch.float64, requires_grad=True)\n",
      "tensor([-0.8083,  1.3367], dtype=torch.float64, requires_grad=True)\n",
      "tensor([-0.8013,  1.3431], dtype=torch.float64, requires_grad=True)\n",
      "tensor([-0.7942,  1.3493], dtype=torch.float64, requires_grad=True)\n",
      "tensor([-0.7871,  1.3556], dtype=torch.float64, requires_grad=True)\n",
      "tensor([-0.7798,  1.3617], dtype=torch.float64, requires_grad=True)\n",
      "tensor([-0.7724,  1.3677], dtype=torch.float64, requires_grad=True)\n",
      "tensor([-0.7650,  1.3737], dtype=torch.float64, requires_grad=True)\n",
      "tensor([-0.7574,  1.3796], dtype=torch.float64, requires_grad=True)\n",
      "tensor([-0.7498,  1.3855], dtype=torch.float64, requires_grad=True)\n",
      "tensor([-0.7421,  1.3912], dtype=torch.float64, requires_grad=True)\n",
      "tensor([-0.7342,  1.3969], dtype=torch.float64, requires_grad=True)\n",
      "tensor([-0.7263,  1.4025], dtype=torch.float64, requires_grad=True)\n",
      "tensor([-0.7183,  1.4081], dtype=torch.float64, requires_grad=True)\n",
      "tensor([-0.7102,  1.4136], dtype=torch.float64, requires_grad=True)\n",
      "tensor([-0.7021,  1.4190], dtype=torch.float64, requires_grad=True)\n",
      "tensor([-0.6938,  1.4243], dtype=torch.float64, requires_grad=True)\n",
      "tensor([-0.6855,  1.4296], dtype=torch.float64, requires_grad=True)\n",
      "tensor([-0.6771,  1.4348], dtype=torch.float64, requires_grad=True)\n",
      "tensor([-0.6686,  1.4399], dtype=torch.float64, requires_grad=True)\n",
      "tensor([-0.6600,  1.4450], dtype=torch.float64, requires_grad=True)\n",
      "tensor([-0.6513,  1.4499], dtype=torch.float64, requires_grad=True)\n",
      "tensor([-0.6426,  1.4549], dtype=torch.float64, requires_grad=True)\n",
      "tensor([-0.6338,  1.4597], dtype=torch.float64, requires_grad=True)\n",
      "tensor([-0.6249,  1.4645], dtype=torch.float64, requires_grad=True)\n",
      "tensor([-0.6160,  1.4692], dtype=torch.float64, requires_grad=True)\n",
      "tensor([-0.6069,  1.4739], dtype=torch.float64, requires_grad=True)\n",
      "tensor([-0.5978,  1.4785], dtype=torch.float64, requires_grad=True)\n",
      "tensor([-0.5886,  1.4830], dtype=torch.float64, requires_grad=True)\n",
      "tensor([-0.5794,  1.4874], dtype=torch.float64, requires_grad=True)\n",
      "tensor([-0.5701,  1.4918], dtype=torch.float64, requires_grad=True)\n",
      "tensor([-0.5607,  1.4962], dtype=torch.float64, requires_grad=True)\n",
      "tensor([-0.5513,  1.5004], dtype=torch.float64, requires_grad=True)\n",
      "tensor([-0.5417,  1.5046], dtype=torch.float64, requires_grad=True)\n",
      "tensor([-0.5322,  1.5087], dtype=torch.float64, requires_grad=True)\n",
      "tensor([-0.5225,  1.5128], dtype=torch.float64, requires_grad=True)\n",
      "tensor([-0.5128,  1.5168], dtype=torch.float64, requires_grad=True)\n",
      "tensor([-0.5030,  1.5207], dtype=torch.float64, requires_grad=True)\n",
      "tensor([-0.4932,  1.5246], dtype=torch.float64, requires_grad=True)\n",
      "tensor([-0.4833,  1.5284], dtype=torch.float64, requires_grad=True)\n",
      "tensor([-0.4734,  1.5321], dtype=torch.float64, requires_grad=True)\n",
      "tensor([-0.4634,  1.5358], dtype=torch.float64, requires_grad=True)\n",
      "tensor([-0.4533,  1.5394], dtype=torch.float64, requires_grad=True)\n",
      "tensor([-0.4432,  1.5429], dtype=torch.float64, requires_grad=True)\n",
      "tensor([-0.4330,  1.5463], dtype=torch.float64, requires_grad=True)\n",
      "tensor([-0.4228,  1.5497], dtype=torch.float64, requires_grad=True)\n",
      "tensor([-0.4126,  1.5531], dtype=torch.float64, requires_grad=True)\n",
      "tensor([-0.4022,  1.5563], dtype=torch.float64, requires_grad=True)\n",
      "tensor([-0.3919,  1.5595], dtype=torch.float64, requires_grad=True)\n",
      "tensor([-0.3815,  1.5627], dtype=torch.float64, requires_grad=True)\n",
      "tensor([-0.3710,  1.5657], dtype=torch.float64, requires_grad=True)\n",
      "tensor([-0.3605,  1.5687], dtype=torch.float64, requires_grad=True)\n",
      "tensor([-0.3500,  1.5716], dtype=torch.float64, requires_grad=True)\n",
      "tensor([-0.3394,  1.5745], dtype=torch.float64, requires_grad=True)\n",
      "tensor([-0.3287,  1.5773], dtype=torch.float64, requires_grad=True)\n",
      "tensor([-0.3181,  1.5800], dtype=torch.float64, requires_grad=True)\n",
      "tensor([-0.3074,  1.5826], dtype=torch.float64, requires_grad=True)\n",
      "tensor([-0.2966,  1.5852], dtype=torch.float64, requires_grad=True)\n",
      "tensor([-0.2859,  1.5877], dtype=torch.float64, requires_grad=True)\n",
      "tensor([-0.2751,  1.5901], dtype=torch.float64, requires_grad=True)\n",
      "tensor([-0.2642,  1.5925], dtype=torch.float64, requires_grad=True)\n",
      "tensor([-0.2533,  1.5948], dtype=torch.float64, requires_grad=True)\n",
      "tensor([-0.2425,  1.5970], dtype=torch.float64, requires_grad=True)\n",
      "tensor([-0.2315,  1.5992], dtype=torch.float64, requires_grad=True)\n",
      "tensor([-0.2206,  1.6013], dtype=torch.float64, requires_grad=True)\n",
      "tensor([-0.2096,  1.6033], dtype=torch.float64, requires_grad=True)\n",
      "tensor([-0.1986,  1.6052], dtype=torch.float64, requires_grad=True)\n",
      "tensor([-0.1876,  1.6071], dtype=torch.float64, requires_grad=True)\n",
      "tensor([-0.1766,  1.6089], dtype=torch.float64, requires_grad=True)\n",
      "tensor([-0.1655,  1.6106], dtype=torch.float64, requires_grad=True)\n",
      "tensor([-0.1544,  1.6123], dtype=torch.float64, requires_grad=True)\n",
      "tensor([-0.1434,  1.6138], dtype=torch.float64, requires_grad=True)\n",
      "tensor([-0.1323,  1.6153], dtype=torch.float64, requires_grad=True)\n",
      "tensor([-0.1212,  1.6168], dtype=torch.float64, requires_grad=True)\n",
      "tensor([-0.1101,  1.6181], dtype=torch.float64, requires_grad=True)\n",
      "tensor([-0.0989,  1.6194], dtype=torch.float64, requires_grad=True)\n",
      "tensor([-0.0878,  1.6206], dtype=torch.float64, requires_grad=True)\n",
      "tensor([-0.0767,  1.6218], dtype=torch.float64, requires_grad=True)\n",
      "tensor([-0.0656,  1.6228], dtype=torch.float64, requires_grad=True)\n",
      "tensor([-0.0544,  1.6238], dtype=torch.float64, requires_grad=True)\n",
      "tensor([-0.0433,  1.6248], dtype=torch.float64, requires_grad=True)\n",
      "tensor([-0.0322,  1.6256], dtype=torch.float64, requires_grad=True)\n",
      "tensor([-0.0211,  1.6264], dtype=torch.float64, requires_grad=True)\n",
      "tensor([-0.0100,  1.6271], dtype=torch.float64, requires_grad=True)\n",
      "tensor([1.1262e-03, 1.6277e+00], dtype=torch.float64, requires_grad=True)\n",
      "tensor([0.0122, 1.6283], dtype=torch.float64, requires_grad=True)\n",
      "tensor([0.0233, 1.6288], dtype=torch.float64, requires_grad=True)\n",
      "tensor([0.0343, 1.6292], dtype=torch.float64, requires_grad=True)\n",
      "tensor([0.0454, 1.6296], dtype=torch.float64, requires_grad=True)\n",
      "tensor([0.0564, 1.6298], dtype=torch.float64, requires_grad=True)\n",
      "tensor([0.0674, 1.6300], dtype=torch.float64, requires_grad=True)\n",
      "tensor([0.0784, 1.6302], dtype=torch.float64, requires_grad=True)\n",
      "tensor([0.0893, 1.6302], dtype=torch.float64, requires_grad=True)\n",
      "tensor([0.1003, 1.6302], dtype=torch.float64, requires_grad=True)\n",
      "tensor([0.1112, 1.6302], dtype=torch.float64, requires_grad=True)\n",
      "tensor([0.1220, 1.6300], dtype=torch.float64, requires_grad=True)\n",
      "tensor([0.1329, 1.6298], dtype=torch.float64, requires_grad=True)\n",
      "tensor([0.1437, 1.6296], dtype=torch.float64, requires_grad=True)\n",
      "tensor([0.1544, 1.6292], dtype=torch.float64, requires_grad=True)\n",
      "tensor([0.1652, 1.6288], dtype=torch.float64, requires_grad=True)\n",
      "tensor([0.1759, 1.6283], dtype=torch.float64, requires_grad=True)\n",
      "tensor([0.1865, 1.6278], dtype=torch.float64, requires_grad=True)\n",
      "tensor([0.1971, 1.6272], dtype=torch.float64, requires_grad=True)\n",
      "tensor([0.2077, 1.6265], dtype=torch.float64, requires_grad=True)\n",
      "tensor([0.2182, 1.6258], dtype=torch.float64, requires_grad=True)\n",
      "tensor([0.2287, 1.6250], dtype=torch.float64, requires_grad=True)\n",
      "tensor([0.2391, 1.6242], dtype=torch.float64, requires_grad=True)\n",
      "tensor([0.2495, 1.6233], dtype=torch.float64, requires_grad=True)\n"
     ]
    },
    {
     "ename": "",
     "evalue": "",
     "output_type": "error",
     "traceback": [
      "\u001b[1;31mThe Kernel crashed while executing code in the the current cell or a previous cell. Please review the code in the cell(s) to identify a possible cause of the failure. Click <a href='https://aka.ms/vscodeJupyterKernelCrash'>here</a> for more info. View Jupyter <a href='command:jupyter.viewOutput'>log</a> for further details."
     ]
    }
   ],
   "source": [
    "animate_3D_GD(GD_cost_func, x, y, (-1,1), 150, step=0.02)"
   ]
  },
  {
   "cell_type": "code",
   "execution_count": null,
   "metadata": {},
   "outputs": [],
   "source": []
  }
 ],
 "metadata": {
  "kernelspec": {
   "display_name": "Python 3.8.13 ('SAXSTT')",
   "language": "python",
   "name": "python3"
  },
  "language_info": {
   "codemirror_mode": {
    "name": "ipython",
    "version": 3
   },
   "file_extension": ".py",
   "mimetype": "text/x-python",
   "name": "python",
   "nbconvert_exporter": "python",
   "pygments_lexer": "ipython3",
   "version": "3.8.13"
  },
  "orig_nbformat": 4,
  "vscode": {
   "interpreter": {
    "hash": "78870d1cbce91eda9675188e6ab147aa27f76fe3d9f15cc56f826954e0ae3aaf"
   }
  }
 },
 "nbformat": 4,
 "nbformat_minor": 2
}
