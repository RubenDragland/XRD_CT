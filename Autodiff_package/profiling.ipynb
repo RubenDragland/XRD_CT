{
 "cells": [
  {
   "cell_type": "code",
   "execution_count": 1,
   "metadata": {},
   "outputs": [
    {
     "name": "stderr",
     "output_type": "stream",
     "text": [
      "C:\\Users\\Bruker\\AppData\\Roaming\\Python\\Python38\\site-packages\\tqdm\\auto.py:22: TqdmWarning: IProgress not found. Please update jupyter and ipywidgets. See https://ipywidgets.readthedocs.io/en/stable/user_install.html\n",
      "  from .autonotebook import tqdm as notebook_tqdm\n"
     ]
    }
   ],
   "source": [
    "from initial_comparisons import *\n",
    "from cost_function_comparison import torch_cost_function, torch_estimated_I\n",
    "import numpy as np\n",
    "%load_ext line_profiler\n",
    "%reload_ext initial_comparisons\n",
    "\n"
   ]
  },
  {
   "cell_type": "code",
   "execution_count": 2,
   "metadata": {},
   "outputs": [],
   "source": [
    "# Params\n",
    "\n",
    "num_elem = int(1e7)\n",
    "\n",
    "rng = np.random.default_rng(seed=69)\n",
    "x = np.abs( rng.normal(size = num_elem) )\n",
    "y = np.abs( rng.normal(size = num_elem) )\n",
    "\n",
    "lineprofile = False"
   ]
  },
  {
   "cell_type": "code",
   "execution_count": 13,
   "metadata": {},
   "outputs": [
    {
     "name": "stdout",
     "output_type": "stream",
     "text": [
      "415 ms ± 2.16 ms per loop (mean ± std. dev. of 7 runs, 1 loop each)\n"
     ]
    }
   ],
   "source": [
    "# Profiling symbolic diff\n",
    "\n",
    "\n",
    "\n",
    "if lineprofile:\n",
    "    %lprun -f symbolic_diff symbolic_diff( symbolic_g, x, y)\n",
    "else:\n",
    "\n",
    "    %timeit symbolic_diff(symbolic_g,x,y)\n",
    "\n"
   ]
  },
  {
   "cell_type": "code",
   "execution_count": 14,
   "metadata": {},
   "outputs": [
    {
     "name": "stdout",
     "output_type": "stream",
     "text": [
      "399 ms ± 30.6 ms per loop (mean ± std. dev. of 7 runs, 1 loop each)\n"
     ]
    }
   ],
   "source": [
    "# Profiling AD Torch\n",
    "\n",
    "if lineprofile:\n",
    "    %lprun -f AD_torch AD_torch( torch_g, x, y)\n",
    "else:\n",
    "    %timeit AD_torch(torch_g,x,y)"
   ]
  },
  {
   "cell_type": "code",
   "execution_count": 15,
   "metadata": {},
   "outputs": [
    {
     "name": "stdout",
     "output_type": "stream",
     "text": [
      "457 ms ± 12.7 ms per loop (mean ± std. dev. of 7 runs, 1 loop each)\n"
     ]
    }
   ],
   "source": [
    "# Profiling AD Autograd\n",
    "\n",
    "if lineprofile:\n",
    "    %lprun -f AD_autograd AD_autograd( autograd_g, x, y)\n",
    "else:\n",
    "    %timeit AD_autograd(autograd_g,x,y)"
   ]
  },
  {
   "cell_type": "code",
   "execution_count": 12,
   "metadata": {},
   "outputs": [
    {
     "name": "stdout",
     "output_type": "stream",
     "text": [
      "868 ms ± 9.48 ms per loop (mean ± std. dev. of 7 runs, 1 loop each)\n"
     ]
    }
   ],
   "source": [
    "# Profiling Numerical\n",
    "lineprofile= False\n",
    "\n",
    "if lineprofile:\n",
    "    %lprun -f numerical_diff numerical_diff(numpy_g, x, y )\n",
    "else:\n",
    "    %timeit numerical_diff(numpy_g, x, y )\n"
   ]
  },
  {
   "cell_type": "code",
   "execution_count": 11,
   "metadata": {},
   "outputs": [
    {
     "name": "stdout",
     "output_type": "stream",
     "text": [
      "tensor([[1.]])\n",
      "tensor([[[[[1.]]]]])\n",
      "{'a_coeffs': tensor([[[[[1.]]]]])}\n",
      "tensor([[[[[[2.]]]]]])\n"
     ]
    }
   ],
   "source": [
    "# Try again\n",
    "\n",
    "# Spherical harmonics. \n",
    "# Each determined scan point gives a 2D scattering pattern described by 8 sections.\n",
    "# The intensity of the scattering pattern is estimated by sum over orders of spherical harmonics along the beam path z.\n",
    "\n",
    "# ALSO, MATLAB STORES (46,34,34,4,1). \n",
    "# THIS WAY OF THINKING INCLUDES PROJECTIONS. EACH ORIENTATION WANTS ITS OWN FUNCTION\n",
    "# HOWEVER, EACH VOXEL HAS ONLY...\n",
    "\n",
    "\n",
    "\n",
    "projections = torch.ones( size = (1,1,1,8 )) #? # n, y, x, (q,phi) The last parenthesis is just 8 numbers. \n",
    "# Num_segments? Fig4: 16 segments where radial integration is performed indicated by white lines and two circles. Only need 8 of them due to symmetry. In addition a q_range. How is this set?\n",
    "\n",
    "\n",
    "mask_omega = torch.ones( size = (1,1,1) ) # This is 3D in the order: y, x, z. Describes voxels\n",
    "\n",
    "a_coeffs = torch.ones(size = (1,1,1,1,1) ) # y, x, z, l, m\n",
    "Y_lms = torch.ones(size = (1,1,1,1,1) )    # y, x, z, l, m\n",
    "\n",
    "# Hence, estimated intensity, sums over z, l, m. \n",
    "\n",
    "estimated_Is = torch.ones( size = (1,1,1,1 ) ) # n, y, x, (q,phi)=8 ; Goes from voxels to projections. Project a 2D scattering image. As determined in cell above. However radial integration into 8 intensity points. \n",
    "measured_Is  = torch.ones( size = (1,1,1,1 ) ) # i.e. projections. \n",
    "transparency = torch.ones( size = (1,1,1) )\n",
    "\n",
    "\n",
    "# ISSUE:\n",
    "# Going from each voxel to all estimated intensity is not so straight forward, as it is conducted by utilising a range of different functions, coordinate systems, and rotations.\n",
    "# Moreover, it is somewhat unclear to me how one coefficient and one spherical harmonics function shall represent 8 intensity segments. \n",
    "# Seems like there is something about retrieving Y_lm coeff as vectors and matrix multiply with powers of cosine.\n",
    "\n",
    "# Testing purposes, assume one intensity\n",
    "\n",
    "estimated_Is = torch_estimated_I(a_coeffs, Y_lms)\n",
    "\n",
    "print(estimated_Is)\n",
    "\n",
    "print(a_coeffs)\n",
    "grad = AD_torch_general(torch_cost_function, mask_omega, Y_lms, measured_Is, transparency , a_coeffs= a_coeffs) # args just passed. a_coeffs has to be passed as kwargs. \n",
    "\n",
    "print(grad)"
   ]
  },
  {
   "cell_type": "code",
   "execution_count": 2,
   "metadata": {},
   "outputs": [
    {
     "name": "stdout",
     "output_type": "stream",
     "text": [
      "Timer unit: 1e-07 s\n",
      "\n",
      "Total time: 0.001355 s\n",
      "File: c:\\Users\\Bruker\\OneDrive\\Dokumenter\\NTNU\\XRD_CT\\Autodiff_package\\initial_comparisons.py\n",
      "Function: AD_torch_general at line 86\n",
      "\n",
      "Line #      Hits         Time  Per Hit   % Time  Line Contents\n",
      "==============================================================\n",
      "    86                                           def AD_torch_general(func, *args, **kwargs) -> torch.tensor:\n",
      "    87                                               '''\n",
      "    88                                               Applies automatic differentiation provided by pytorch\n",
      "    89                                           \n",
      "    90                                               Parameters: \n",
      "    91                                               -----------\n",
      "    92                                               func: function\n",
      "    93                                                   The cost function to be called\n",
      "    94                                               *args: list\n",
      "    95                                                   The arguments of the cost function\n",
      "    96                                               **kwargs: dict\n",
      "    97                                                   The variables for whom one shall differentiate.\n",
      "    98                                           \n",
      "    99                                               returns: torch.tensor\n",
      "   100                                                   The gradients    \n",
      "   101                                               '''\n",
      "   102         1         22.0     22.0      0.2      first_var = list(kwargs)[0]\n",
      "   103         1        104.0    104.0      0.8      x = torch.ones(size = (len(kwargs), *kwargs[first_var].size() ) )# , requires_grad=True)\n",
      "   104         2         24.0     12.0      0.2      for it, (key, elem) in enumerate( kwargs.items() ):\n",
      "   105         1        303.0    303.0      2.2          x[it] = elem\n",
      "   106         1         51.0     51.0      0.4      x.requires_grad_(True)\n",
      "   107         1       6333.0   6333.0     46.7      y = func( *args, x )\n",
      "   108                                           \n",
      "   109         1       6634.0   6634.0     49.0      y.backward( ) \n",
      "   110                                           \n",
      "   111         1         79.0     79.0      0.6      return x.grad"
     ]
    }
   ],
   "source": [
    "mask_omega = torch.ones( size = (1,1,1) ) # This is 3D in the order: y, x, z. Describes voxels\n",
    "\n",
    "a_coeffs = torch.ones(size = (1,1,1,1,1) ) *69 # y, x, z, l, m\n",
    "Y_lms = torch.ones(size = (1,1,1,1,1) )  *169   # y, x, z, l, m\n",
    "\n",
    "# Hence, estimated intensity, sums over z, l, m. \n",
    "\n",
    "estimated_Is = torch.ones( size = (1,1,1,1 ) ) # n, y, x, (q,phi)=8 ; Goes from voxels to projections. Project a 2D scattering image. As determined in cell above. However radial integration into 8 intensity points. \n",
    "estimated_Is = torch_estimated_I(a_coeffs, Y_lms)\n",
    "measured_Is  = torch.ones( size = (1,1,1,1 ) )  # i.e. projections. \n",
    "transparency = torch.ones( size = (1,1,1) ) * 0.5\n",
    "\n",
    "\n",
    "%lprun -f AD_torch_general AD_torch_general( torch_cost_function, mask_omega, Y_lms, measured_Is, transparency , a_coeffs= a_coeffs)"
   ]
  },
  {
   "cell_type": "code",
   "execution_count": null,
   "metadata": {},
   "outputs": [],
   "source": []
  }
 ],
 "metadata": {
  "kernelspec": {
   "display_name": "Python 3.8.13 ('SAXSTT')",
   "language": "python",
   "name": "python3"
  },
  "language_info": {
   "codemirror_mode": {
    "name": "ipython",
    "version": 3
   },
   "file_extension": ".py",
   "mimetype": "text/x-python",
   "name": "python",
   "nbconvert_exporter": "python",
   "pygments_lexer": "ipython3",
   "version": "3.8.13"
  },
  "orig_nbformat": 4,
  "vscode": {
   "interpreter": {
    "hash": "78870d1cbce91eda9675188e6ab147aa27f76fe3d9f15cc56f826954e0ae3aaf"
   }
  }
 },
 "nbformat": 4,
 "nbformat_minor": 2
}
