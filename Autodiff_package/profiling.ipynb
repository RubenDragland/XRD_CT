{
 "cells": [
  {
   "cell_type": "code",
   "execution_count": 1,
   "metadata": {},
   "outputs": [],
   "source": [
    "from initial_comparisons import *\n",
    "from cost_function_comparison import torch_cost_function, torch_estimated_I\n",
    "import numpy as np\n",
    "%load_ext line_profiler\n",
    "%reload_ext initial_comparisons\n",
    "\n"
   ]
  },
  {
   "cell_type": "code",
   "execution_count": 2,
   "metadata": {},
   "outputs": [],
   "source": [
    "# Params\n",
    "\n",
    "num_elem = int(1e7)\n",
    "\n",
    "rng = np.random.default_rng(seed=69)\n",
    "x = np.abs( rng.normal(size = num_elem) )\n",
    "y = np.abs( rng.normal(size = num_elem) )\n",
    "\n",
    "lineprofile = False"
   ]
  },
  {
   "cell_type": "code",
   "execution_count": 13,
   "metadata": {},
   "outputs": [
    {
     "name": "stdout",
     "output_type": "stream",
     "text": [
      "415 ms ± 2.16 ms per loop (mean ± std. dev. of 7 runs, 1 loop each)\n"
     ]
    }
   ],
   "source": [
    "# Profiling symbolic diff\n",
    "\n",
    "\n",
    "\n",
    "if lineprofile:\n",
    "    print(\"Profiling symbolic diff\")\n",
    "    %lprun -f symbolic_diff symbolic_diff( symbolic_g, x, y)\n",
    "else:\n",
    "    print(\"Timing symbolic diff\")\n",
    "    %timeit symbolic_diff(symbolic_g,x,y)\n",
    "\n"
   ]
  },
  {
   "cell_type": "code",
   "execution_count": 14,
   "metadata": {},
   "outputs": [
    {
     "name": "stdout",
     "output_type": "stream",
     "text": [
      "399 ms ± 30.6 ms per loop (mean ± std. dev. of 7 runs, 1 loop each)\n"
     ]
    }
   ],
   "source": [
    "# Profiling AD Torch\n",
    "\n",
    "if lineprofile:\n",
    "    print(\"Profiling AD Torch\")\n",
    "    %lprun -f AD_torch AD_torch( torch_g, x, y)\n",
    "else:\n",
    "    print(\"Timing AD Torch\")\n",
    "    %timeit AD_torch(torch_g,x,y)"
   ]
  },
  {
   "cell_type": "code",
   "execution_count": 15,
   "metadata": {},
   "outputs": [
    {
     "name": "stdout",
     "output_type": "stream",
     "text": [
      "457 ms ± 12.7 ms per loop (mean ± std. dev. of 7 runs, 1 loop each)\n"
     ]
    }
   ],
   "source": [
    "# Profiling AD Autograd\n",
    "\n",
    "if lineprofile:\n",
    "    print(\"Profiling AD Autograd\")\n",
    "    %lprun -f AD_autograd AD_autograd( autograd_g, x, y)\n",
    "else:\n",
    "    print(\"Timing AD Autograd\")\n",
    "    %timeit AD_autograd(autograd_g,x,y)"
   ]
  },
  {
   "cell_type": "code",
   "execution_count": 12,
   "metadata": {},
   "outputs": [
    {
     "name": "stdout",
     "output_type": "stream",
     "text": [
      "868 ms ± 9.48 ms per loop (mean ± std. dev. of 7 runs, 1 loop each)\n"
     ]
    }
   ],
   "source": [
    "# Profiling Numerical\n",
    "lineprofile= False\n",
    "\n",
    "if lineprofile:\n",
    "    print(\"Profiling Numerical\")\n",
    "    %lprun -f numerical_diff numerical_diff(numpy_g, x, y )\n",
    "else:\n",
    "    print(\"Timing Numerical\")\n",
    "    %timeit numerical_diff(numpy_g, x, y )\n"
   ]
  },
  {
   "cell_type": "code",
   "execution_count": 2,
   "metadata": {},
   "outputs": [
    {
     "name": "stdout",
     "output_type": "stream",
     "text": [
      "tensor([[1.]])\n",
      "tensor([[[[[1.]]]]])\n",
      "tensor([[[[[[0.]]]]]])\n"
     ]
    }
   ],
   "source": [
    "# Try again\n",
    "\n",
    "# Spherical harmonics. \n",
    "# Each determined scan point gives a 2D scattering pattern described by 8 sections.\n",
    "# The intensity of the scattering pattern is estimated by sum over orders of spherical harmonics along the beam path z.\n",
    "\n",
    "# ALSO, MATLAB STORES (46,34,34,4,1). \n",
    "# THIS WAY OF THINKING INCLUDES PROJECTIONS. EACH ORIENTATION WANTS ITS OWN FUNCTION\n",
    "# HOWEVER, EACH VOXEL HAS ONLY...\n",
    "\n",
    "\n",
    "\n",
    "projections = torch.ones( size = (1,1,1,8 )) #? # n, y, x, (q,phi) The last parenthesis is just 8 numbers. \n",
    "# Num_segments? Fig4: 16 segments where radial integration is performed indicated by white lines and two circles. Only need 8 of them due to symmetry. In addition a q_range. How is this set?\n",
    "\n",
    "\n",
    "mask_omega = torch.ones( size = (1,1,1) ) # This is 3D in the order: y, x, z. Describes voxels\n",
    "\n",
    "a_coeffs = torch.ones(size = (1,1,1,1,1) ) # y, x, z, l, m\n",
    "Y_lms = torch.ones(size = (1,1,1,1,1) )    # y, x, z, l, m\n",
    "\n",
    "# Hence, estimated intensity, sums over z, l, m. \n",
    "\n",
    "estimated_Is = torch.ones( size = (1,1,1,1 ) ) # n, y, x, (q,phi)=8 ; Goes from voxels to projections. Project a 2D scattering image. As determined in cell above. However radial integration into 8 intensity points. \n",
    "measured_Is  = torch.ones( size = (1,1,1,1 ) ) # i.e. projections. \n",
    "transparency = torch.ones( size = (1,1,1) )\n",
    "\n",
    "\n",
    "# ISSUE:\n",
    "# Going from each voxel to all estimated intensity is not so straight forward, as it is conducted by utilising a range of different functions, coordinate systems, and rotations.\n",
    "# Moreover, it is somewhat unclear to me how one coefficient and one spherical harmonics function shall represent 8 intensity segments. \n",
    "# Seems like there is something about retrieving Y_lm coeff as vectors and matrix multiply with powers of cosine.\n",
    "\n",
    "# Testing purposes, assume one intensity\n",
    "\n",
    "estimated_Is = torch_estimated_I(a_coeffs, Y_lms)\n",
    "\n",
    "print(estimated_Is)\n",
    "\n",
    "print(a_coeffs)\n",
    "grad = AD_torch_general(torch_cost_function, mask_omega, Y_lms, measured_Is, transparency , a_coeffs= a_coeffs) # args just passed. a_coeffs has to be passed as kwargs. \n",
    "\n",
    "print(grad)"
   ]
  },
  {
   "cell_type": "code",
   "execution_count": 10,
   "metadata": {},
   "outputs": [
    {
     "data": {
      "text/plain": [
       "tensor([[[[[[7881880.]]]]]])"
      ]
     },
     "execution_count": 10,
     "metadata": {},
     "output_type": "execute_result"
    }
   ],
   "source": [
    "from cost_function_comparison import epsilon_coeff\n",
    "mask_omega = torch.ones( size = (1,1,1) ) # This is 3D in the order: y, x, z. Describes voxels\n",
    "\n",
    "a_coeffs = torch.ones(size = (1,1,1,1,1) ) *69 # y, x, z, l, m\n",
    "Y_lms = torch.ones(size = (1,1,1,1,1) )  *169   # y, x, z, l, m\n",
    "\n",
    "# Hence, estimated intensity, sums over z, l, m. \n",
    "\n",
    "estimated_Is = torch.ones( size = (1,1,1,1 ) ) # n, y, x, (q,phi)=8 ; Goes from voxels to projections. Project a 2D scattering image. As determined in cell above. However radial integration into 8 intensity points. \n",
    "estimated_Is = torch_estimated_I(a_coeffs, Y_lms)\n",
    "measured_Is  = torch.ones( size = (1,1,1,1 ) )  # i.e. projections. \n",
    "transparency = torch.ones( size = (1,1,1) ) * 0.5\n",
    "\n",
    "\n",
    "# %lprun -f AD_torch_general \n",
    "AD_torch_general( torch_cost_function, mask_omega, Y_lms, measured_Is, transparency , a_coeffs= a_coeffs)"
   ]
  },
  {
   "cell_type": "code",
   "execution_count": null,
   "metadata": {},
   "outputs": [],
   "source": []
  }
 ],
 "metadata": {
  "kernelspec": {
   "display_name": "Python 3.8.13 ('SAXSTT')",
   "language": "python",
   "name": "python3"
  },
  "language_info": {
   "codemirror_mode": {
    "name": "ipython",
    "version": 3
   },
   "file_extension": ".py",
   "mimetype": "text/x-python",
   "name": "python",
   "nbconvert_exporter": "python",
   "pygments_lexer": "ipython3",
   "version": "3.8.13"
  },
  "orig_nbformat": 4,
  "vscode": {
   "interpreter": {
    "hash": "78870d1cbce91eda9675188e6ab147aa27f76fe3d9f15cc56f826954e0ae3aaf"
   }
  }
 },
 "nbformat": 4,
 "nbformat_minor": 2
}
