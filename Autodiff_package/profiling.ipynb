{
 "cells": [
  {
   "cell_type": "code",
   "execution_count": 1,
   "metadata": {},
   "outputs": [
    {
     "name": "stderr",
     "output_type": "stream",
     "text": [
      "C:\\Users\\Bruker\\AppData\\Roaming\\Python\\Python38\\site-packages\\tqdm\\auto.py:22: TqdmWarning: IProgress not found. Please update jupyter and ipywidgets. See https://ipywidgets.readthedocs.io/en/stable/user_install.html\n",
      "  from .autonotebook import tqdm as notebook_tqdm\n"
     ]
    }
   ],
   "source": [
    "from initial_comparisons import *\n",
    "import numpy as np\n",
    "%load_ext line_profiler\n",
    "%reload_ext initial_comparisons\n",
    "\n"
   ]
  },
  {
   "cell_type": "code",
   "execution_count": 2,
   "metadata": {},
   "outputs": [],
   "source": [
    "# Params\n",
    "\n",
    "num_elem = int(1e7)\n",
    "\n",
    "rng = np.random.default_rng(seed=69)\n",
    "x = np.abs( rng.normal(size = num_elem) )\n",
    "y = np.abs( rng.normal(size = num_elem) )\n",
    "\n",
    "lineprofile = False"
   ]
  },
  {
   "cell_type": "code",
   "execution_count": 13,
   "metadata": {},
   "outputs": [
    {
     "name": "stdout",
     "output_type": "stream",
     "text": [
      "415 ms ± 2.16 ms per loop (mean ± std. dev. of 7 runs, 1 loop each)\n"
     ]
    }
   ],
   "source": [
    "# Profiling symbolic diff\n",
    "\n",
    "\n",
    "\n",
    "if lineprofile:\n",
    "    %lprun -f symbolic_diff symbolic_diff( symbolic_g, x, y)\n",
    "else:\n",
    "\n",
    "    %timeit symbolic_diff(symbolic_g,x,y)\n",
    "\n"
   ]
  },
  {
   "cell_type": "code",
   "execution_count": 14,
   "metadata": {},
   "outputs": [
    {
     "name": "stdout",
     "output_type": "stream",
     "text": [
      "399 ms ± 30.6 ms per loop (mean ± std. dev. of 7 runs, 1 loop each)\n"
     ]
    }
   ],
   "source": [
    "# Profiling AD Torch\n",
    "\n",
    "if lineprofile:\n",
    "    %lprun -f AD_torch AD_torch( torch_g, x, y)\n",
    "else:\n",
    "    %timeit AD_torch(torch_g,x,y)"
   ]
  },
  {
   "cell_type": "code",
   "execution_count": 15,
   "metadata": {},
   "outputs": [
    {
     "name": "stdout",
     "output_type": "stream",
     "text": [
      "457 ms ± 12.7 ms per loop (mean ± std. dev. of 7 runs, 1 loop each)\n"
     ]
    }
   ],
   "source": [
    "# Profiling AD Autograd\n",
    "\n",
    "if lineprofile:\n",
    "    %lprun -f AD_autograd AD_autograd( autograd_g, x, y)\n",
    "else:\n",
    "    %timeit AD_autograd(autograd_g,x,y)"
   ]
  },
  {
   "cell_type": "code",
   "execution_count": 12,
   "metadata": {},
   "outputs": [
    {
     "name": "stdout",
     "output_type": "stream",
     "text": [
      "868 ms ± 9.48 ms per loop (mean ± std. dev. of 7 runs, 1 loop each)\n"
     ]
    }
   ],
   "source": [
    "# Profiling Numerical\n",
    "lineprofile= False\n",
    "\n",
    "if lineprofile:\n",
    "    %lprun -f numerical_diff numerical_diff(numpy_g, x, y )\n",
    "else:\n",
    "    %timeit numerical_diff(numpy_g, x, y )\n"
   ]
  },
  {
   "cell_type": "code",
   "execution_count": null,
   "metadata": {},
   "outputs": [],
   "source": []
  }
 ],
 "metadata": {
  "kernelspec": {
   "display_name": "Python 3.8.13 ('SAXSTT')",
   "language": "python",
   "name": "python3"
  },
  "language_info": {
   "codemirror_mode": {
    "name": "ipython",
    "version": 3
   },
   "file_extension": ".py",
   "mimetype": "text/x-python",
   "name": "python",
   "nbconvert_exporter": "python",
   "pygments_lexer": "ipython3",
   "version": "3.8.13"
  },
  "orig_nbformat": 4,
  "vscode": {
   "interpreter": {
    "hash": "78870d1cbce91eda9675188e6ab147aa27f76fe3d9f15cc56f826954e0ae3aaf"
   }
  }
 },
 "nbformat": 4,
 "nbformat_minor": 2
}
