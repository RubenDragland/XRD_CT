{
 "cells": [
  {
   "cell_type": "code",
   "execution_count": 14,
   "metadata": {},
   "outputs": [
    {
     "name": "stdout",
     "output_type": "stream",
     "text": [
      "The autoreload extension is already loaded. To reload it, use:\n",
      "  %reload_ext autoreload\n"
     ]
    }
   ],
   "source": [
    "from forward_backward_AD import *\n",
    "\n",
    "import numpy as np\n",
    "import torch\n",
    "import time, timeit\n",
    "\n",
    "import scipy.io\n",
    "\n",
    "%load_ext autoreload\n",
    "%autoreload 2"
   ]
  },
  {
   "cell_type": "code",
   "execution_count": 15,
   "metadata": {},
   "outputs": [],
   "source": [
    "workspace = scipy.io.loadmat(r'../Data Sets/Debug Data/workspace_calc_grad.mat')"
   ]
  },
  {
   "cell_type": "code",
   "execution_count": 7,
   "metadata": {},
   "outputs": [
    {
     "name": "stdout",
     "output_type": "stream",
     "text": [
      "dict_keys(['__header__', '__version__', '__globals__', 'opt_inputs', 'p', 's', 'projection', 'E', 'numOfCoeffs', 'skip_optimization', 'None', 'return_synth_proj', 'return_Ereg', 'find_coefficients', 'find_orientation', 'find_grad', 'phi_det', 'theta_det', 'l', 'm', 'nx', 'ny', 'nz', 'numOfsegments', 'numOfvoxels', 'mask3D', 'numOfpixels', 'numOfordersopt', 'theta_struct', 'phi_struct', 'a', 'ii', 'grad_a', 'grad_theta_struct', 'grad_phi_struct', 'zeros_struct', 'Ylm_coef', 'a_temp', 'a_temp1', 'a_temp2', 'ones_struct', 'unit_q_beamline', 'N', 'x', 'y', 'z', 'X', 'Y', 'Z', '__function_workspace__'])\n"
     ]
    }
   ],
   "source": [
    "print(workspace.keys())"
   ]
  },
  {
   "cell_type": "code",
   "execution_count": 16,
   "metadata": {},
   "outputs": [],
   "source": [
    "theta_struct_it = workspace['theta_struct']\n",
    "phi_struct_it = workspace['phi_struct']\n",
    "a_temp_it =    workspace['a_temp']\n",
    "ny = workspace['ny']\n",
    "nx = workspace['nx']\n",
    "nz = workspace['nz']\n",
    "numOfsegments = workspace['numOfsegments']\n",
    "current_projection = workspace['projection'][0,0]#[2]\n",
    "p = workspace['p']\n",
    "X = workspace['X']\n",
    "Y = workspace['Y']\n",
    "Z = workspace['Z']\n",
    "numOfpixels = workspace['numOfpixels']\n",
    "unit_q_beamline = workspace['unit_q_beamline']\n",
    "Ylm_coef = workspace['Ylm_coef']\n",
    "find_coefficients = workspace['find_coefficients']\n",
    "find_orientation = workspace['find_orientation']\n",
    "numOfCoeffs = workspace['numOfCoeffs']\n",
    "numOfvoxels = workspace['numOfvoxels']\n",
    "\n"
   ]
  },
  {
   "cell_type": "code",
   "execution_count": 5,
   "metadata": {},
   "outputs": [
    {
     "name": "stdout",
     "output_type": "stream",
     "text": [
      "<class 'numpy.ndarray'>\n",
      "64\n",
      "<class 'int'>\n",
      "tensor([[ 1.,  2.,  3.,  4.],\n",
      "        [ 5.,  6.,  7.,  8.],\n",
      "        [ 9., 10., 11., 12.],\n",
      "        [13., 14., 15., 16.]], dtype=torch.float64)\n",
      "torch.Size([4, 4, 8])\n",
      "(4, 4, 8)\n",
      "(3, 3)\n"
     ]
    }
   ],
   "source": [
    "#print(current_projection[0,0][2].shape)\n",
    "# Testing shit\n",
    "\n",
    "print(type(numOfvoxels))\n",
    "\n",
    "yo = int(np.squeeze(numOfvoxels))\n",
    "\n",
    "print(yo)\n",
    "\n",
    "print(type(yo))\n",
    "\n",
    "new_tens = torch.tensor([1,2,3,4,5,6,7,8,9,10,11,12,13,14,15,16], dtype=torch.float64).reshape(4,4)\n",
    "print(new_tens)\n",
    "\n",
    "\n",
    "A = torch.rand((3,3,64))\n",
    "B = torch.rand((3,8))\n",
    "#C = torch.matmul(A[0], B) # Have to figure out how this works. \n",
    "\n",
    "projection_data = torch.tensor(\n",
    "        current_projection[\"data\"])\n",
    "\n",
    "print(projection_data.shape)\n",
    "\n",
    "print(current_projection[\"data\"].shape)\n",
    "print(current_projection[\"Rot_exp\"].shape)\n"
   ]
  },
  {
   "cell_type": "markdown",
   "metadata": {},
   "source": [
    "Done debugging. Error is at least correct. "
   ]
  },
  {
   "cell_type": "code",
   "execution_count": 17,
   "metadata": {},
   "outputs": [
    {
     "name": "stderr",
     "output_type": "stream",
     "text": [
      "DEBUG:root:Before a_temp_it shape: 64\n",
      "DEBUG:root:After a_temp_it shape: torch.Size([64])\n",
      "DEBUG:root:Rot_str shape: torch.Size([3, 3, 64])\n",
      "DEBUG:root:unit_q_object shape: torch.Size([3, 8])\n",
      "DEBUG:root:A shape: torch.Size([3, 3, 64])\n",
      "DEBUG:root:B shape: torch.Size([3, 8])\n",
      "DEBUG:root:cos_theta_sh_cut shape: torch.Size([8, 64])\n",
      "DEBUG:root:Ylm_coef: tensor([0.2821], dtype=torch.float64)\n",
      "DEBUG:root:block_cos_theta_powers shape: torch.Size([1, 8, 64])\n",
      "DEBUG:root:A shape: torch.Size([1])\n",
      "DEBUG:root:B shape: torch.Size([1, 8, 64])\n",
      "DEBUG:root:A dims: 2\n",
      "DEBUG:root:B dims: 3\n",
      "DEBUG:root:Ylm shape: torch.Size([1, 8, 64])\n",
      "DEBUG:root:a_temp shape: torch.Size([64])\n",
      "DEBUG:root:A shape: torch.Size([64])\n",
      "DEBUG:root:B shape: torch.Size([1, 8, 64])\n",
      "DEBUG:root:sumlm_alm_Ylm shape: torch.Size([1, 8, 64])\n",
      "DEBUG:root:data_synt_vol shape: torch.Size([4, 4, 4, 8])\n",
      "DEBUG:root:Data type, shape: torch.float32, torch.Size([4, 4, 8])\n",
      "DEBUG:root:xout shape: (4,)\n",
      "DEBUG:root:yout shape: (4,)\n",
      "DEBUG:root:\n",
      "xout: [-1.38545603 -0.38545603  0.61454397  1.61454397]\n",
      "yout: [-0.19120833  0.80879167  1.80879167  2.80879167]\n",
      "DEBUG:root:proj_out_all shape: torch.Size([4, 4, 8])\n",
      "DEBUG:root:tomo_obj_all shape: torch.Size([4, 4, 4, 8])\n",
      "DEBUG:root:nRows: 4 nCols: 4 nPages: 8\n",
      "DEBUG:root:Ax shape: (4, 4, 4)\n",
      "DEBUG:root:indices shape: (36, 3)\n",
      "DEBUG:root:tomo_obj_all shape: torch.Size([4, 4, 4, 8])\n",
      "DEBUG:root:\n",
      "Ay: [1. 1. 1. 1. 1. 1. 1. 1. 1. 1. 1. 1. 2. 2. 2. 2. 2. 2. 2. 2. 2. 2. 2. 2.\n",
      " 3. 3. 3. 3. 3. 3. 3. 3. 3. 3. 3. 3.]\n",
      "Ax: [1. 1. 1. 1. 2. 2. 2. 2. 3. 3. 3. 3. 1. 1. 1. 1. 2. 2. 2. 2. 3. 3. 3. 3.\n",
      " 1. 1. 1. 1. 2. 2. 2. 2. 3. 3. 3. 3.]\n",
      "DEBUG:root:temp1 shape: torch.Size([36])\n",
      "DEBUG:root:tomo_obj_all indexed shape: torch.Size([36, 8])\n",
      "DEBUG:root:data shape: torch.Size([4, 4, 8])\n",
      "DEBUG:root:aux_diff_poisson shape: torch.Size([8, 4, 4])\n",
      "DEBUG:root:Ad_grad_coeff: tensor([ 0.0000,  0.0000,  0.0000,  0.0000,  0.0000,  0.0000,  0.0000,  0.0000,\n",
      "         0.0000,  0.0000,  0.0000,  0.0000,  0.0000,  0.0000,  0.0000,  0.0000,\n",
      "        -0.1200, -0.1896, -0.2592, -0.3288, -0.1227, -0.1922, -0.2617, -0.3312,\n",
      "        -0.0370, -0.0357, -0.0343, -0.0330,  0.0000,  0.0000,  0.0000,  0.0000,\n",
      "        -0.2213, -0.3600, -0.4987, -0.6374, -0.2223, -0.3616, -0.5008, -0.6401,\n",
      "        -0.0513, -0.0494, -0.0475, -0.0456,  0.0000,  0.0000,  0.0000,  0.0000,\n",
      "        -0.1343, -0.2160, -0.2977, -0.3794, -0.1356, -0.2173, -0.2990, -0.3807,\n",
      "        -0.0351, -0.0337, -0.0324, -0.0311,  0.0000,  0.0000,  0.0000,  0.0000],\n",
      "       dtype=torch.float64)\n",
      "DEBUG:root:error_norm: 0.20768234133720398\n",
      "DEBUG:root:AD_grad_coeff shape: torch.Size([64])\n"
     ]
    },
    {
     "name": "stdout",
     "output_type": "stream",
     "text": [
      "proj_out_all: tensor([[[1.6223e-10, 1.6223e-10, 1.6223e-10, 1.6223e-10, 1.6223e-10,\n",
      "          1.6223e-10, 1.6223e-10, 1.6223e-10],\n",
      "         [6.5339e-10, 6.5339e-10, 6.5339e-10, 6.5339e-10, 6.5339e-10,\n",
      "          6.5339e-10, 6.5339e-10, 6.5339e-10],\n",
      "         [6.5339e-10, 6.5339e-10, 6.5339e-10, 6.5339e-10, 6.5339e-10,\n",
      "          6.5339e-10, 6.5339e-10, 6.5339e-10],\n",
      "         [4.6183e-10, 4.6183e-10, 4.6183e-10, 4.6183e-10, 4.6183e-10,\n",
      "          4.6183e-10, 4.6183e-10, 4.6183e-10]],\n",
      "\n",
      "        [[2.0058e-10, 2.0058e-10, 2.0058e-10, 2.0058e-10, 2.0058e-10,\n",
      "          2.0058e-10, 2.0058e-10, 2.0058e-10],\n",
      "         [8.0786e-10, 8.0786e-10, 8.0786e-10, 8.0786e-10, 8.0786e-10,\n",
      "          8.0786e-10, 8.0786e-10, 8.0786e-10],\n",
      "         [8.0786e-10, 8.0786e-10, 8.0786e-10, 8.0786e-10, 8.0786e-10,\n",
      "          8.0786e-10, 8.0786e-10, 8.0786e-10],\n",
      "         [5.7102e-10, 5.7102e-10, 5.7102e-10, 5.7102e-10, 5.7102e-10,\n",
      "          5.7102e-10, 5.7102e-10, 5.7102e-10]],\n",
      "\n",
      "        [[2.0058e-10, 2.0058e-10, 2.0058e-10, 2.0058e-10, 2.0058e-10,\n",
      "          2.0058e-10, 2.0058e-10, 2.0058e-10],\n",
      "         [8.0786e-10, 8.0786e-10, 8.0786e-10, 8.0786e-10, 8.0786e-10,\n",
      "          8.0786e-10, 8.0786e-10, 8.0786e-10],\n",
      "         [8.0786e-10, 8.0786e-10, 8.0786e-10, 8.0786e-10, 8.0786e-10,\n",
      "          8.0786e-10, 8.0786e-10, 8.0786e-10],\n",
      "         [5.7102e-10, 5.7102e-10, 5.7102e-10, 5.7102e-10, 5.7102e-10,\n",
      "          5.7102e-10, 5.7102e-10, 5.7102e-10]],\n",
      "\n",
      "        [[3.8352e-11, 3.8352e-11, 3.8352e-11, 3.8352e-11, 3.8352e-11,\n",
      "          3.8352e-11, 3.8352e-11, 3.8352e-11],\n",
      "         [1.5447e-10, 1.5447e-10, 1.5447e-10, 1.5447e-10, 1.5447e-10,\n",
      "          1.5447e-10, 1.5447e-10, 1.5447e-10],\n",
      "         [1.5447e-10, 1.5447e-10, 1.5447e-10, 1.5447e-10, 1.5447e-10,\n",
      "          1.5447e-10, 1.5447e-10, 1.5447e-10],\n",
      "         [1.0918e-10, 1.0918e-10, 1.0918e-10, 1.0918e-10, 1.0918e-10,\n",
      "          1.0918e-10, 1.0918e-10, 1.0918e-10]]], grad_fn=<IndexPutBackward0>)\n",
      "Proj after conv:  tensor([[[1.4593e-08, 2.4173e-08, 2.5959e-08, 1.9953e-08],\n",
      "         [1.8310e-08, 3.0331e-08, 3.2573e-08, 2.5036e-08],\n",
      "         [1.6649e-08, 2.7580e-08, 2.9618e-08, 2.2765e-08],\n",
      "         [9.6101e-09, 1.5919e-08, 1.7096e-08, 1.3140e-08]],\n",
      "\n",
      "        [[1.4593e-08, 2.4173e-08, 2.5959e-08, 1.9953e-08],\n",
      "         [1.8310e-08, 3.0331e-08, 3.2573e-08, 2.5036e-08],\n",
      "         [1.6649e-08, 2.7580e-08, 2.9618e-08, 2.2765e-08],\n",
      "         [9.6101e-09, 1.5919e-08, 1.7096e-08, 1.3140e-08]],\n",
      "\n",
      "        [[1.4593e-08, 2.4173e-08, 2.5959e-08, 1.9953e-08],\n",
      "         [1.8310e-08, 3.0331e-08, 3.2573e-08, 2.5036e-08],\n",
      "         [1.6649e-08, 2.7580e-08, 2.9618e-08, 2.2765e-08],\n",
      "         [9.6101e-09, 1.5919e-08, 1.7096e-08, 1.3140e-08]],\n",
      "\n",
      "        [[1.4593e-08, 2.4173e-08, 2.5959e-08, 1.9953e-08],\n",
      "         [1.8310e-08, 3.0331e-08, 3.2573e-08, 2.5036e-08],\n",
      "         [1.6649e-08, 2.7580e-08, 2.9618e-08, 2.2765e-08],\n",
      "         [9.6101e-09, 1.5919e-08, 1.7096e-08, 1.3140e-08]],\n",
      "\n",
      "        [[1.4593e-08, 2.4173e-08, 2.5959e-08, 1.9953e-08],\n",
      "         [1.8310e-08, 3.0331e-08, 3.2573e-08, 2.5036e-08],\n",
      "         [1.6649e-08, 2.7580e-08, 2.9618e-08, 2.2765e-08],\n",
      "         [9.6101e-09, 1.5919e-08, 1.7096e-08, 1.3140e-08]],\n",
      "\n",
      "        [[1.4593e-08, 2.4173e-08, 2.5959e-08, 1.9953e-08],\n",
      "         [1.8310e-08, 3.0331e-08, 3.2573e-08, 2.5036e-08],\n",
      "         [1.6649e-08, 2.7580e-08, 2.9618e-08, 2.2765e-08],\n",
      "         [9.6101e-09, 1.5919e-08, 1.7096e-08, 1.3140e-08]],\n",
      "\n",
      "        [[1.4593e-08, 2.4173e-08, 2.5959e-08, 1.9953e-08],\n",
      "         [1.8310e-08, 3.0331e-08, 3.2573e-08, 2.5036e-08],\n",
      "         [1.6649e-08, 2.7580e-08, 2.9618e-08, 2.2765e-08],\n",
      "         [9.6101e-09, 1.5919e-08, 1.7096e-08, 1.3140e-08]],\n",
      "\n",
      "        [[1.4593e-08, 2.4173e-08, 2.5959e-08, 1.9953e-08],\n",
      "         [1.8310e-08, 3.0331e-08, 3.2573e-08, 2.5036e-08],\n",
      "         [1.6649e-08, 2.7580e-08, 2.9618e-08, 2.2765e-08],\n",
      "         [9.6101e-09, 1.5919e-08, 1.7096e-08, 1.3140e-08]]],\n",
      "       grad_fn=<SqueezeBackward1>)\n"
     ]
    },
    {
     "data": {
      "text/plain": [
       "(0.20768234133720398,\n",
       " array([ 0.        ,  0.        ,  0.        ,  0.        ,  0.        ,\n",
       "         0.        ,  0.        ,  0.        ,  0.        ,  0.        ,\n",
       "         0.        ,  0.        ,  0.        ,  0.        ,  0.        ,\n",
       "         0.        , -0.11999981, -0.18959601, -0.2591922 , -0.32878839,\n",
       "        -0.12267426, -0.19217514, -0.26167602, -0.33117689, -0.0370274 ,\n",
       "        -0.03567798, -0.03432856, -0.03297915,  0.        ,  0.        ,\n",
       "         0.        ,  0.        , -0.22132965, -0.36001161, -0.49869357,\n",
       "        -0.63737552, -0.22229672, -0.36157039, -0.50084406, -0.64011773,\n",
       "        -0.0512583 , -0.04936334, -0.04746837, -0.04557341,  0.        ,\n",
       "         0.        ,  0.        ,  0.        , -0.13431723, -0.2159966 ,\n",
       "        -0.29767597, -0.37935534, -0.13561856, -0.21731783, -0.29901709,\n",
       "        -0.38071635, -0.03506898, -0.03374624, -0.0324235 , -0.03110076,\n",
       "         0.        ,  0.        ,  0.        ,  0.        ]),\n",
       " array([], dtype=float64),\n",
       " array([], dtype=float64))"
      ]
     },
     "execution_count": 17,
     "metadata": {},
     "output_type": "execute_result"
    }
   ],
   "source": [
    "main(theta_struct_it, phi_struct_it, a_temp_it, ny, nx, nz, numOfsegments, current_projection, p, X, Y, Z, numOfpixels, unit_q_beamline, Ylm_coef, find_coefficients, find_orientation, numOfCoeffs, numOfvoxels)"
   ]
  },
  {
   "cell_type": "code",
   "execution_count": 146,
   "metadata": {},
   "outputs": [
    {
     "name": "stdout",
     "output_type": "stream",
     "text": [
      "[[1 0 0]\n",
      " [1 0 1]\n",
      " [1 0 2]\n",
      " [1 0 3]]\n",
      "[16 17 18 19]\n"
     ]
    }
   ],
   "source": [
    "x = np.arange(64).reshape(4,4,4)\n",
    "y = np.arange(64).reshape(4,4,4)\n",
    "\n",
    "lower = np.argwhere( x>10)\n",
    "upper = np.argwhere(x<20)\n",
    "\n",
    "y = np.argwhere( (x>10) & (x<20) & (y>15) & (y<25) )\n",
    "print(y)\n",
    "\n",
    "# Next is out of bounds. Index 5 found when size is 4, index 3 is therefore max. \n",
    "print(x[y[:,0], y[:,1], y[:,2] ])"
   ]
  },
  {
   "cell_type": "code",
   "execution_count": 168,
   "metadata": {},
   "outputs": [
    {
     "name": "stdout",
     "output_type": "stream",
     "text": [
      "[1. 1. 1. 1. 2. 2. 2. 2. 3. 3. 3. 3. 1. 1. 1. 1. 2. 2. 2. 2. 3. 3. 3. 3.\n",
      " 1. 1. 1. 1. 2. 2. 2. 2. 3. 3. 3. 3.]\n",
      "[1. 1. 1. 1. 1. 1. 1. 1. 1. 1. 1. 1. 2. 2. 2. 2. 2. 2. 2. 2. 2. 2. 2. 2.\n",
      " 3. 3. 3. 3. 3. 3. 3. 3. 3. 3. 3. 3.]\n"
     ]
    }
   ],
   "source": [
    "\n",
    "# print(X)\n",
    "# print('\\n')\n",
    "# print(Y)\n",
    "\n",
    "Ax = np.floor(\n",
    "    X - (-1.38545603) + 1\n",
    ")  # Drop +1 due to 0-indexing. AI suggested, but believe I should copy cpp-code\n",
    "Ay = np.floor(Y - (-0.19120833) + 1)\n",
    "\n",
    "indices = np.argwhere( (Ax>0) & (Ax<4) & (Ay>0) & (Ay<4) )\n",
    "\n",
    "print(Ax[indices[:,0], indices[:,1], indices[:,2] ])\n",
    "print(Ay[indices[:,0], indices[:,1], indices[:,2] ])"
   ]
  },
  {
   "cell_type": "code",
   "execution_count": 187,
   "metadata": {},
   "outputs": [
    {
     "name": "stdout",
     "output_type": "stream",
     "text": [
      "tensor([[[3., 3., 3.],\n",
      "         [3., 3., 3.],\n",
      "         [3., 3., 3.]],\n",
      "\n",
      "        [[3., 3., 3.],\n",
      "         [3., 3., 3.],\n",
      "         [3., 3., 3.]],\n",
      "\n",
      "        [[3., 3., 3.],\n",
      "         [3., 3., 3.],\n",
      "         [3., 3., 3.]]], dtype=torch.float64)\n"
     ]
    }
   ],
   "source": [
    "u1 = np.ones((3,3,3))\n",
    "u2 = np.ones((3,3,3))\n",
    "\n",
    "v = torch.tensor( u1 @ u2)\n",
    "print(v)"
   ]
  },
  {
   "cell_type": "code",
   "execution_count": 201,
   "metadata": {},
   "outputs": [],
   "source": [
    "# Check out nan values\n",
    "\n",
    "permuted_data = np.load(r\"../permuted_data.npy\") #np.load(r'../Data Sets/Debug Data/permuted_data.npy')\n",
    "proj_out_all = np.load(r\"../proj_out_all.npy\") #np.load(r'../Data Sets/Debug Data/proj_out_all.npy')\n",
    "aux_diff_poisson = np.load(r\"../aux_diff_poisson.npy\") #np.load(r'../Data Sets/Debug Data/aux_diff_poisson.npy')"
   ]
  },
  {
   "cell_type": "code",
   "execution_count": 202,
   "metadata": {},
   "outputs": [
    {
     "name": "stdout",
     "output_type": "stream",
     "text": [
      "(8, 4, 4)\n",
      "(8, 4, 4)\n",
      "(8, 4, 4)\n"
     ]
    }
   ],
   "source": [
    "print(permuted_data.shape)\n",
    "print(proj_out_all.shape)\n",
    "print(aux_diff_poisson.shape)"
   ]
  },
  {
   "cell_type": "code",
   "execution_count": 209,
   "metadata": {},
   "outputs": [
    {
     "name": "stdout",
     "output_type": "stream",
     "text": [
      "[  0.69836503   0.839173    21.605843   216.13242    102.646805\n",
      "   0.92443      0.6229484    0.5012255 ]\n",
      "[-9.80411e-11 -9.80411e-11 -9.80411e-11 -9.80411e-11 -9.80411e-11\n",
      " -9.80411e-11 -9.80411e-11 -9.80411e-11]\n",
      "[nan nan nan nan nan nan nan nan]\n"
     ]
    }
   ],
   "source": [
    "print(permuted_data[:,0,0])\n",
    "print(proj_out_all[:,0,0])\n",
    "print(aux_diff_poisson[:,0,0])\n",
    "# negative projection data..."
   ]
  },
  {
   "cell_type": "code",
   "execution_count": null,
   "metadata": {},
   "outputs": [],
   "source": []
  }
 ],
 "metadata": {
  "kernelspec": {
   "display_name": "Python 3.8.13 ('SAXSTT')",
   "language": "python",
   "name": "python3"
  },
  "language_info": {
   "codemirror_mode": {
    "name": "ipython",
    "version": 3
   },
   "file_extension": ".py",
   "mimetype": "text/x-python",
   "name": "python",
   "nbconvert_exporter": "python",
   "pygments_lexer": "ipython3",
   "version": "3.8.13"
  },
  "orig_nbformat": 4,
  "vscode": {
   "interpreter": {
    "hash": "78870d1cbce91eda9675188e6ab147aa27f76fe3d9f15cc56f826954e0ae3aaf"
   }
  }
 },
 "nbformat": 4,
 "nbformat_minor": 2
}
