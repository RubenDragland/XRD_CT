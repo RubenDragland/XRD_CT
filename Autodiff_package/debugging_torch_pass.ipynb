{
 "cells": [
  {
   "cell_type": "code",
   "execution_count": 197,
   "metadata": {},
   "outputs": [
    {
     "name": "stdout",
     "output_type": "stream",
     "text": [
      "The autoreload extension is already loaded. To reload it, use:\n",
      "  %reload_ext autoreload\n"
     ]
    }
   ],
   "source": [
    "from forward_backward_AD import *\n",
    "\n",
    "import numpy as np\n",
    "import torch\n",
    "import time, timeit\n",
    "\n",
    "import scipy.io\n",
    "\n",
    "%load_ext autoreload\n",
    "%autoreload 2"
   ]
  },
  {
   "cell_type": "code",
   "execution_count": 192,
   "metadata": {},
   "outputs": [
    {
     "name": "stderr",
     "output_type": "stream",
     "text": [
      "c:\\Users\\Bruker\\anaconda3\\envs\\SAXSTT\\lib\\site-packages\\scipy\\io\\matlab\\mio.py:226: MatReadWarning: Duplicate variable name \"None\" in stream - replacing previous with new\n",
      "Consider mio5.varmats_from_mat to split file into single variable files\n",
      "  matfile_dict = MR.get_variables(variable_names)\n"
     ]
    }
   ],
   "source": [
    "workspace = scipy.io.loadmat(r'../Data Sets/Debug Data/workspace_calc_grad.mat')"
   ]
  },
  {
   "cell_type": "code",
   "execution_count": 3,
   "metadata": {},
   "outputs": [
    {
     "name": "stdout",
     "output_type": "stream",
     "text": [
      "dict_keys(['__header__', '__version__', '__globals__', 'opt_inputs', 'p', 's', 'projection', 'E', 'numOfCoeffs', 'skip_optimization', 'None', 'return_synth_proj', 'return_Ereg', 'find_coefficients', 'find_orientation', 'find_grad', 'phi_det', 'theta_det', 'l', 'm', 'nx', 'ny', 'nz', 'numOfsegments', 'numOfvoxels', 'mask3D', 'numOfpixels', 'numOfordersopt', 'theta_struct', 'phi_struct', 'a', 'ii', 'grad_a', 'grad_theta_struct', 'grad_phi_struct', 'zeros_struct', 'Ylm_coef', 'a_temp', 'a_temp1', 'a_temp2', 'ones_struct', 'unit_q_beamline', 'N', 'x', 'y', 'z', 'X', 'Y', 'Z', '__function_workspace__'])\n"
     ]
    }
   ],
   "source": [
    "print(workspace.keys())"
   ]
  },
  {
   "cell_type": "code",
   "execution_count": 193,
   "metadata": {},
   "outputs": [],
   "source": [
    "theta_struct_it = workspace['theta_struct']\n",
    "phi_struct_it = workspace['phi_struct']\n",
    "a_temp_it =    workspace['a_temp']\n",
    "ny = workspace['ny']\n",
    "nx = workspace['nx']\n",
    "nz = workspace['nz']\n",
    "numOfsegments = workspace['numOfsegments']\n",
    "current_projection = workspace['projection'][0,0]#[2]\n",
    "p = workspace['p']\n",
    "X = workspace['X']\n",
    "Y = workspace['Y']\n",
    "Z = workspace['Z']\n",
    "numOfpixels = workspace['numOfpixels']\n",
    "unit_q_beamline = workspace['unit_q_beamline']\n",
    "Ylm_coef = workspace['Ylm_coef']\n",
    "find_coefficients = workspace['find_coefficients']\n",
    "find_orientation = workspace['find_orientation']\n",
    "numOfCoeffs = workspace['numOfCoeffs']\n",
    "numOfvoxels = workspace['numOfvoxels']\n",
    "\n"
   ]
  },
  {
   "cell_type": "code",
   "execution_count": 188,
   "metadata": {},
   "outputs": [
    {
     "name": "stdout",
     "output_type": "stream",
     "text": [
      "<class 'numpy.ndarray'>\n",
      "64\n",
      "<class 'int'>\n",
      "tensor([[ 1.,  2.,  3.,  4.],\n",
      "        [ 5.,  6.,  7.,  8.],\n",
      "        [ 9., 10., 11., 12.],\n",
      "        [13., 14., 15., 16.]], dtype=torch.float64)\n",
      "torch.Size([4, 4, 8])\n",
      "(4, 4, 8)\n",
      "(3, 3)\n"
     ]
    }
   ],
   "source": [
    "#print(current_projection[0,0][2].shape)\n",
    "# Testing shit\n",
    "\n",
    "print(type(numOfvoxels))\n",
    "\n",
    "yo = int(np.squeeze(numOfvoxels))\n",
    "\n",
    "print(yo)\n",
    "\n",
    "print(type(yo))\n",
    "\n",
    "new_tens = torch.tensor([1,2,3,4,5,6,7,8,9,10,11,12,13,14,15,16], dtype=torch.float64).reshape(4,4)\n",
    "print(new_tens)\n",
    "\n",
    "\n",
    "A = torch.rand((3,3,64))\n",
    "B = torch.rand((3,8))\n",
    "#C = torch.matmul(A[0], B) # Have to figure out how this works. \n",
    "\n",
    "projection_data = torch.tensor(\n",
    "        current_projection[\"data\"])\n",
    "\n",
    "print(projection_data.shape)\n",
    "\n",
    "print(current_projection[\"data\"].shape)\n",
    "print(current_projection[\"Rot_exp\"].shape)\n"
   ]
  },
  {
   "cell_type": "markdown",
   "metadata": {},
   "source": [
    "Done debugging. Error is at least correct. "
   ]
  },
  {
   "cell_type": "code",
   "execution_count": 198,
   "metadata": {},
   "outputs": [
    {
     "name": "stderr",
     "output_type": "stream",
     "text": [
      "INFO:root:data_synt_vol is nan: False\n",
      "INFO:root:proj_out_all is nan: False\n",
      "INFO:root:permuted_data is nan: False\n",
      "INFO:root:permuted data dtype: torch.float64\n",
      "INFO:root:proj_out_all dtype: torch.float32\n",
      "INFO:root:aux_diff_poisson is nan: False\n",
      "INFO:root:aux_diff_poisson dtype: torch.float64\n",
      "INFO:root:aux_diff_poisson shape: torch.Size([8, 4, 4])\n",
      "INFO:root:tensor([[[-0.4607, -0.4491, -0.4222, -0.4283],\n",
      "         [-0.5100, -0.9163, -0.8323, -0.5868],\n",
      "         [-2.4404, -2.6914, -1.3356, -0.7975],\n",
      "         [-4.3477, -4.0441, -2.9266, -1.4890]],\n",
      "\n",
      "        [[-0.4492, -0.4776, -0.5748, -1.5065],\n",
      "         [-0.4655, -0.9761, -2.6697, -2.8522],\n",
      "         [-1.2614, -3.3904, -3.4696, -4.8108],\n",
      "         [-2.3583, -3.0658, -5.6401, -5.2958]],\n",
      "\n",
      "        [[-0.8568, -0.7009, -0.7631, -1.9899],\n",
      "         [-0.7022, -0.7295, -2.0036, -3.9800],\n",
      "         [-0.6603, -0.8244, -2.3033, -5.5066],\n",
      "         [-0.6817, -0.7948, -3.0790, -5.0523]],\n",
      "\n",
      "        [[-1.9263, -1.5291, -1.2819, -1.3334],\n",
      "         [-1.8212, -1.4054, -1.1894, -1.6058],\n",
      "         [-1.5962, -1.2788, -1.1096, -1.8085],\n",
      "         [-1.3457, -1.0853, -1.0054, -1.8374]],\n",
      "\n",
      "        [[-2.1258, -1.6592, -1.3037, -1.1181],\n",
      "         [-2.2340, -1.6931, -1.3322, -1.2359],\n",
      "         [-2.3991, -1.8702, -1.4234, -1.4323],\n",
      "         [-2.7698, -1.9778, -1.4742, -1.6015]],\n",
      "\n",
      "        [[-0.8319, -0.7360, -0.6322, -0.5752],\n",
      "         [-1.1774, -0.9955, -0.8323, -0.6755],\n",
      "         [-1.6326, -1.3206, -1.0246, -0.7933],\n",
      "         [-2.3070, -1.6188, -1.2290, -0.9178]],\n",
      "\n",
      "        [[-0.4786, -0.4422, -0.4282, -0.4510],\n",
      "         [-0.4532, -0.4638, -0.4623, -0.4815],\n",
      "         [-0.5587, -0.5556, -0.4384, -0.4538],\n",
      "         [-0.7589, -0.6490, -0.5727, -0.4727]],\n",
      "\n",
      "        [[-0.4226, -0.4026, -0.3874, -0.4248],\n",
      "         [-0.4011, -0.4207, -0.4325, -0.4783],\n",
      "         [-0.5900, -0.5185, -0.4596, -0.4623],\n",
      "         [-1.2472, -0.6508, -0.5989, -0.5233]]], dtype=torch.float64,\n",
      "       grad_fn=<SubBackward0>)\n"
     ]
    },
    {
     "data": {
      "text/plain": [
       "(0.20767428344614638,\n",
       " array([ 0.        ,  0.        ,  0.        ,  0.        ,  0.        ,\n",
       "         0.        ,  0.        ,  0.        ,  0.        ,  0.        ,\n",
       "         0.        ,  0.        ,  0.        ,  0.        ,  0.        ,\n",
       "         0.        , -0.14486932, -0.19772307, -0.25057683, -0.30343059,\n",
       "        -0.16993861, -0.22433006, -0.2787215 , -0.33311295, -0.10750407,\n",
       "        -0.10607128, -0.10463849, -0.10320571,  0.        ,  0.        ,\n",
       "         0.        ,  0.        , -0.22354726, -0.32561551, -0.42768377,\n",
       "        -0.52975202, -0.25339509, -0.35948617, -0.46557724, -0.57166832,\n",
       "        -0.12877967, -0.12677392, -0.12476817, -0.12276241,  0.        ,\n",
       "         0.        ,  0.        ,  0.        , -0.10882365, -0.16727035,\n",
       "        -0.22571705, -0.28416376, -0.1184528 , -0.17900811, -0.23956343,\n",
       "        -0.30011874, -0.04521855, -0.04348648, -0.04175441, -0.04002234,\n",
       "         0.        ,  0.        ,  0.        ,  0.        ]),\n",
       " array([], dtype=float64),\n",
       " array([], dtype=float64))"
      ]
     },
     "execution_count": 198,
     "metadata": {},
     "output_type": "execute_result"
    }
   ],
   "source": [
    "main(theta_struct_it, phi_struct_it, a_temp_it, ny, nx, nz, numOfsegments, current_projection, p, X, Y, Z, numOfpixels, unit_q_beamline, Ylm_coef, find_coefficients, find_orientation, numOfCoeffs, numOfvoxels)"
   ]
  },
  {
   "cell_type": "code",
   "execution_count": 146,
   "metadata": {},
   "outputs": [
    {
     "name": "stdout",
     "output_type": "stream",
     "text": [
      "[[1 0 0]\n",
      " [1 0 1]\n",
      " [1 0 2]\n",
      " [1 0 3]]\n",
      "[16 17 18 19]\n"
     ]
    }
   ],
   "source": [
    "x = np.arange(64).reshape(4,4,4)\n",
    "y = np.arange(64).reshape(4,4,4)\n",
    "\n",
    "lower = np.argwhere( x>10)\n",
    "upper = np.argwhere(x<20)\n",
    "\n",
    "y = np.argwhere( (x>10) & (x<20) & (y>15) & (y<25) )\n",
    "print(y)\n",
    "\n",
    "# Next is out of bounds. Index 5 found when size is 4, index 3 is therefore max. \n",
    "print(x[y[:,0], y[:,1], y[:,2] ])"
   ]
  },
  {
   "cell_type": "code",
   "execution_count": 168,
   "metadata": {},
   "outputs": [
    {
     "name": "stdout",
     "output_type": "stream",
     "text": [
      "[1. 1. 1. 1. 2. 2. 2. 2. 3. 3. 3. 3. 1. 1. 1. 1. 2. 2. 2. 2. 3. 3. 3. 3.\n",
      " 1. 1. 1. 1. 2. 2. 2. 2. 3. 3. 3. 3.]\n",
      "[1. 1. 1. 1. 1. 1. 1. 1. 1. 1. 1. 1. 2. 2. 2. 2. 2. 2. 2. 2. 2. 2. 2. 2.\n",
      " 3. 3. 3. 3. 3. 3. 3. 3. 3. 3. 3. 3.]\n"
     ]
    }
   ],
   "source": [
    "\n",
    "# print(X)\n",
    "# print('\\n')\n",
    "# print(Y)\n",
    "\n",
    "Ax = np.floor(\n",
    "    X - (-1.38545603) + 1\n",
    ")  # Drop +1 due to 0-indexing. AI suggested, but believe I should copy cpp-code\n",
    "Ay = np.floor(Y - (-0.19120833) + 1)\n",
    "\n",
    "indices = np.argwhere( (Ax>0) & (Ax<4) & (Ay>0) & (Ay<4) )\n",
    "\n",
    "print(Ax[indices[:,0], indices[:,1], indices[:,2] ])\n",
    "print(Ay[indices[:,0], indices[:,1], indices[:,2] ])"
   ]
  },
  {
   "cell_type": "code",
   "execution_count": 187,
   "metadata": {},
   "outputs": [
    {
     "name": "stdout",
     "output_type": "stream",
     "text": [
      "tensor([[[3., 3., 3.],\n",
      "         [3., 3., 3.],\n",
      "         [3., 3., 3.]],\n",
      "\n",
      "        [[3., 3., 3.],\n",
      "         [3., 3., 3.],\n",
      "         [3., 3., 3.]],\n",
      "\n",
      "        [[3., 3., 3.],\n",
      "         [3., 3., 3.],\n",
      "         [3., 3., 3.]]], dtype=torch.float64)\n"
     ]
    }
   ],
   "source": [
    "u1 = np.ones((3,3,3))\n",
    "u2 = np.ones((3,3,3))\n",
    "\n",
    "v = torch.tensor( u1 @ u2)\n",
    "print(v)"
   ]
  },
  {
   "cell_type": "code",
   "execution_count": 201,
   "metadata": {},
   "outputs": [],
   "source": [
    "# Check out nan values\n",
    "\n",
    "permuted_data = np.load(r\"../permuted_data.npy\") #np.load(r'../Data Sets/Debug Data/permuted_data.npy')\n",
    "proj_out_all = np.load(r\"../proj_out_all.npy\") #np.load(r'../Data Sets/Debug Data/proj_out_all.npy')\n",
    "aux_diff_poisson = np.load(r\"../aux_diff_poisson.npy\") #np.load(r'../Data Sets/Debug Data/aux_diff_poisson.npy')"
   ]
  },
  {
   "cell_type": "code",
   "execution_count": 202,
   "metadata": {},
   "outputs": [
    {
     "name": "stdout",
     "output_type": "stream",
     "text": [
      "(8, 4, 4)\n",
      "(8, 4, 4)\n",
      "(8, 4, 4)\n"
     ]
    }
   ],
   "source": [
    "print(permuted_data.shape)\n",
    "print(proj_out_all.shape)\n",
    "print(aux_diff_poisson.shape)"
   ]
  },
  {
   "cell_type": "code",
   "execution_count": 209,
   "metadata": {},
   "outputs": [
    {
     "name": "stdout",
     "output_type": "stream",
     "text": [
      "[  0.69836503   0.839173    21.605843   216.13242    102.646805\n",
      "   0.92443      0.6229484    0.5012255 ]\n",
      "[-9.80411e-11 -9.80411e-11 -9.80411e-11 -9.80411e-11 -9.80411e-11\n",
      " -9.80411e-11 -9.80411e-11 -9.80411e-11]\n",
      "[nan nan nan nan nan nan nan nan]\n"
     ]
    }
   ],
   "source": [
    "print(permuted_data[:,0,0])\n",
    "print(proj_out_all[:,0,0])\n",
    "print(aux_diff_poisson[:,0,0])\n",
    "# negative projection data..."
   ]
  },
  {
   "cell_type": "code",
   "execution_count": null,
   "metadata": {},
   "outputs": [],
   "source": []
  }
 ],
 "metadata": {
  "kernelspec": {
   "display_name": "Python 3.8.13 ('SAXSTT')",
   "language": "python",
   "name": "python3"
  },
  "language_info": {
   "codemirror_mode": {
    "name": "ipython",
    "version": 3
   },
   "file_extension": ".py",
   "mimetype": "text/x-python",
   "name": "python",
   "nbconvert_exporter": "python",
   "pygments_lexer": "ipython3",
   "version": "3.8.13"
  },
  "orig_nbformat": 4,
  "vscode": {
   "interpreter": {
    "hash": "78870d1cbce91eda9675188e6ab147aa27f76fe3d9f15cc56f826954e0ae3aaf"
   }
  }
 },
 "nbformat": 4,
 "nbformat_minor": 2
}
