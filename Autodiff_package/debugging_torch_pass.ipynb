{
 "cells": [
  {
   "cell_type": "code",
   "execution_count": 177,
   "metadata": {},
   "outputs": [
    {
     "name": "stdout",
     "output_type": "stream",
     "text": [
      "The autoreload extension is already loaded. To reload it, use:\n",
      "  %reload_ext autoreload\n"
     ]
    }
   ],
   "source": [
    "from forward_backward_AD import *\n",
    "\n",
    "import numpy as np\n",
    "import torch\n",
    "import time, timeit\n",
    "\n",
    "import scipy.io\n",
    "\n",
    "%load_ext autoreload\n",
    "%autoreload 2"
   ]
  },
  {
   "cell_type": "code",
   "execution_count": 170,
   "metadata": {},
   "outputs": [
    {
     "name": "stderr",
     "output_type": "stream",
     "text": [
      "c:\\Users\\Bruker\\anaconda3\\envs\\SAXSTT\\lib\\site-packages\\scipy\\io\\matlab\\mio.py:226: MatReadWarning: Duplicate variable name \"None\" in stream - replacing previous with new\n",
      "Consider mio5.varmats_from_mat to split file into single variable files\n",
      "  matfile_dict = MR.get_variables(variable_names)\n"
     ]
    }
   ],
   "source": [
    "workspace = scipy.io.loadmat(r'../Data Sets/Debug Data/workspace_calc_grad.mat')"
   ]
  },
  {
   "cell_type": "code",
   "execution_count": 3,
   "metadata": {},
   "outputs": [
    {
     "name": "stdout",
     "output_type": "stream",
     "text": [
      "dict_keys(['__header__', '__version__', '__globals__', 'opt_inputs', 'p', 's', 'projection', 'E', 'numOfCoeffs', 'skip_optimization', 'None', 'return_synth_proj', 'return_Ereg', 'find_coefficients', 'find_orientation', 'find_grad', 'phi_det', 'theta_det', 'l', 'm', 'nx', 'ny', 'nz', 'numOfsegments', 'numOfvoxels', 'mask3D', 'numOfpixels', 'numOfordersopt', 'theta_struct', 'phi_struct', 'a', 'ii', 'grad_a', 'grad_theta_struct', 'grad_phi_struct', 'zeros_struct', 'Ylm_coef', 'a_temp', 'a_temp1', 'a_temp2', 'ones_struct', 'unit_q_beamline', 'N', 'x', 'y', 'z', 'X', 'Y', 'Z', '__function_workspace__'])\n"
     ]
    }
   ],
   "source": [
    "print(workspace.keys())"
   ]
  },
  {
   "cell_type": "code",
   "execution_count": 171,
   "metadata": {},
   "outputs": [],
   "source": [
    "theta_struct_it = workspace['theta_struct']\n",
    "phi_struct_it = workspace['phi_struct']\n",
    "a_temp_it =    workspace['a_temp']\n",
    "ny = workspace['ny']\n",
    "nx = workspace['nx']\n",
    "nz = workspace['nz']\n",
    "numOfsegments = workspace['numOfsegments']\n",
    "current_projection = workspace['projection'][0,0]#[2]\n",
    "p = workspace['p']\n",
    "X = workspace['X']\n",
    "Y = workspace['Y']\n",
    "Z = workspace['Z']\n",
    "numOfpixels = workspace['numOfpixels']\n",
    "unit_q_beamline = workspace['unit_q_beamline']\n",
    "Ylm_coef = workspace['Ylm_coef']\n",
    "find_coefficients = workspace['find_coefficients']\n",
    "find_orientation = workspace['find_orientation']\n",
    "numOfCoeffs = workspace['numOfCoeffs']\n",
    "numOfvoxels = workspace['numOfvoxels']\n",
    "\n"
   ]
  },
  {
   "cell_type": "code",
   "execution_count": 188,
   "metadata": {},
   "outputs": [
    {
     "name": "stdout",
     "output_type": "stream",
     "text": [
      "<class 'numpy.ndarray'>\n",
      "64\n",
      "<class 'int'>\n",
      "tensor([[ 1.,  2.,  3.,  4.],\n",
      "        [ 5.,  6.,  7.,  8.],\n",
      "        [ 9., 10., 11., 12.],\n",
      "        [13., 14., 15., 16.]], dtype=torch.float64)\n",
      "torch.Size([4, 4, 8])\n",
      "(4, 4, 8)\n",
      "(3, 3)\n"
     ]
    }
   ],
   "source": [
    "#print(current_projection[0,0][2].shape)\n",
    "# Testing shit\n",
    "\n",
    "print(type(numOfvoxels))\n",
    "\n",
    "yo = int(np.squeeze(numOfvoxels))\n",
    "\n",
    "print(yo)\n",
    "\n",
    "print(type(yo))\n",
    "\n",
    "new_tens = torch.tensor([1,2,3,4,5,6,7,8,9,10,11,12,13,14,15,16], dtype=torch.float64).reshape(4,4)\n",
    "print(new_tens)\n",
    "\n",
    "\n",
    "A = torch.rand((3,3,64))\n",
    "B = torch.rand((3,8))\n",
    "#C = torch.matmul(A[0], B) # Have to figure out how this works. \n",
    "\n",
    "projection_data = torch.tensor(\n",
    "        current_projection[\"data\"])\n",
    "\n",
    "print(projection_data.shape)\n",
    "\n",
    "print(current_projection[\"data\"].shape)\n",
    "print(current_projection[\"Rot_exp\"].shape)\n"
   ]
  },
  {
   "cell_type": "markdown",
   "metadata": {},
   "source": [
    "Done debugging. Error is at least correct. "
   ]
  },
  {
   "cell_type": "code",
   "execution_count": 180,
   "metadata": {},
   "outputs": [
    {
     "data": {
      "text/plain": [
       "(0.2076742798089981,\n",
       " array([ 0.        ,  0.        ,  0.        ,  0.        ,  0.        ,\n",
       "         0.        ,  0.        ,  0.        ,  0.        ,  0.        ,\n",
       "         0.        ,  0.        ,  0.        ,  0.        ,  0.        ,\n",
       "         0.        , -0.14486932, -0.19772309, -0.25057685, -0.30343061,\n",
       "        -0.16993863, -0.22433007, -0.27872152, -0.33311297, -0.10750408,\n",
       "        -0.10607129, -0.1046385 , -0.10320571,  0.        ,  0.        ,\n",
       "         0.        ,  0.        , -0.22354727, -0.32561552, -0.42768378,\n",
       "        -0.52975204, -0.2533951 , -0.35948618, -0.46557727, -0.57166835,\n",
       "        -0.12877968, -0.12677393, -0.12476818, -0.12276242,  0.        ,\n",
       "         0.        ,  0.        ,  0.        , -0.10882365, -0.16727035,\n",
       "        -0.22571705, -0.28416376, -0.1184528 , -0.17900812, -0.23956344,\n",
       "        -0.30011876, -0.04521856, -0.04348649, -0.04175441, -0.04002234,\n",
       "         0.        ,  0.        ,  0.        ,  0.        ]),\n",
       " array([], dtype=float64),\n",
       " array([], dtype=float64))"
      ]
     },
     "execution_count": 180,
     "metadata": {},
     "output_type": "execute_result"
    }
   ],
   "source": [
    "main(theta_struct_it, phi_struct_it, a_temp_it, ny, nx, nz, numOfsegments, current_projection, p, X, Y, Z, numOfpixels, unit_q_beamline, Ylm_coef, find_coefficients, find_orientation, numOfCoeffs, numOfvoxels)"
   ]
  },
  {
   "cell_type": "code",
   "execution_count": 146,
   "metadata": {},
   "outputs": [
    {
     "name": "stdout",
     "output_type": "stream",
     "text": [
      "[[1 0 0]\n",
      " [1 0 1]\n",
      " [1 0 2]\n",
      " [1 0 3]]\n",
      "[16 17 18 19]\n"
     ]
    }
   ],
   "source": [
    "x = np.arange(64).reshape(4,4,4)\n",
    "y = np.arange(64).reshape(4,4,4)\n",
    "\n",
    "lower = np.argwhere( x>10)\n",
    "upper = np.argwhere(x<20)\n",
    "\n",
    "y = np.argwhere( (x>10) & (x<20) & (y>15) & (y<25) )\n",
    "print(y)\n",
    "\n",
    "# Next is out of bounds. Index 5 found when size is 4, index 3 is therefore max. \n",
    "print(x[y[:,0], y[:,1], y[:,2] ])"
   ]
  },
  {
   "cell_type": "code",
   "execution_count": 168,
   "metadata": {},
   "outputs": [
    {
     "name": "stdout",
     "output_type": "stream",
     "text": [
      "[1. 1. 1. 1. 2. 2. 2. 2. 3. 3. 3. 3. 1. 1. 1. 1. 2. 2. 2. 2. 3. 3. 3. 3.\n",
      " 1. 1. 1. 1. 2. 2. 2. 2. 3. 3. 3. 3.]\n",
      "[1. 1. 1. 1. 1. 1. 1. 1. 1. 1. 1. 1. 2. 2. 2. 2. 2. 2. 2. 2. 2. 2. 2. 2.\n",
      " 3. 3. 3. 3. 3. 3. 3. 3. 3. 3. 3. 3.]\n"
     ]
    }
   ],
   "source": [
    "\n",
    "# print(X)\n",
    "# print('\\n')\n",
    "# print(Y)\n",
    "\n",
    "Ax = np.floor(\n",
    "    X - (-1.38545603) + 1\n",
    ")  # Drop +1 due to 0-indexing. AI suggested, but believe I should copy cpp-code\n",
    "Ay = np.floor(Y - (-0.19120833) + 1)\n",
    "\n",
    "indices = np.argwhere( (Ax>0) & (Ax<4) & (Ay>0) & (Ay<4) )\n",
    "\n",
    "print(Ax[indices[:,0], indices[:,1], indices[:,2] ])\n",
    "print(Ay[indices[:,0], indices[:,1], indices[:,2] ])"
   ]
  },
  {
   "cell_type": "code",
   "execution_count": 187,
   "metadata": {},
   "outputs": [
    {
     "name": "stdout",
     "output_type": "stream",
     "text": [
      "tensor([[[3., 3., 3.],\n",
      "         [3., 3., 3.],\n",
      "         [3., 3., 3.]],\n",
      "\n",
      "        [[3., 3., 3.],\n",
      "         [3., 3., 3.],\n",
      "         [3., 3., 3.]],\n",
      "\n",
      "        [[3., 3., 3.],\n",
      "         [3., 3., 3.],\n",
      "         [3., 3., 3.]]], dtype=torch.float64)\n"
     ]
    }
   ],
   "source": [
    "u1 = np.ones((3,3,3))\n",
    "u2 = np.ones((3,3,3))\n",
    "\n",
    "v = torch.tensor( u1 @ u2)\n",
    "print(v)"
   ]
  },
  {
   "cell_type": "code",
   "execution_count": null,
   "metadata": {},
   "outputs": [],
   "source": []
  }
 ],
 "metadata": {
  "kernelspec": {
   "display_name": "Python 3.8.13 ('SAXSTT')",
   "language": "python",
   "name": "python3"
  },
  "language_info": {
   "codemirror_mode": {
    "name": "ipython",
    "version": 3
   },
   "file_extension": ".py",
   "mimetype": "text/x-python",
   "name": "python",
   "nbconvert_exporter": "python",
   "pygments_lexer": "ipython3",
   "version": "3.8.13"
  },
  "orig_nbformat": 4,
  "vscode": {
   "interpreter": {
    "hash": "78870d1cbce91eda9675188e6ab147aa27f76fe3d9f15cc56f826954e0ae3aaf"
   }
  }
 },
 "nbformat": 4,
 "nbformat_minor": 2
}
