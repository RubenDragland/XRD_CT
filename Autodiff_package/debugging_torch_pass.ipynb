{
 "cells": [
  {
   "cell_type": "code",
   "execution_count": 91,
   "metadata": {},
   "outputs": [
    {
     "name": "stdout",
     "output_type": "stream",
     "text": [
      "The autoreload extension is already loaded. To reload it, use:\n",
      "  %reload_ext autoreload\n"
     ]
    }
   ],
   "source": [
    "from forward_backward_AD import *\n",
    "\n",
    "import numpy as np\n",
    "import torch\n",
    "import time, timeit\n",
    "\n",
    "import scipy.io\n",
    "\n",
    "%load_ext autoreload\n",
    "%autoreload 2"
   ]
  },
  {
   "cell_type": "code",
   "execution_count": 92,
   "metadata": {},
   "outputs": [
    {
     "name": "stderr",
     "output_type": "stream",
     "text": [
      "c:\\Users\\Bruker\\anaconda3\\envs\\SAXSTT\\lib\\site-packages\\scipy\\io\\matlab\\mio.py:226: MatReadWarning: Duplicate variable name \"None\" in stream - replacing previous with new\n",
      "Consider mio5.varmats_from_mat to split file into single variable files\n",
      "  matfile_dict = MR.get_variables(variable_names)\n"
     ]
    }
   ],
   "source": [
    "workspace = scipy.io.loadmat(r'../Data Sets/Debug Data/validation_python_workspace.mat')"
   ]
  },
  {
   "cell_type": "code",
   "execution_count": 93,
   "metadata": {},
   "outputs": [
    {
     "name": "stdout",
     "output_type": "stream",
     "text": [
      "dict_keys(['__header__', '__version__', '__globals__', 'opt_inputs', 'p', 's', 'projection', 'E', 'numOfCoeffs', 'skip_optimization', 'None', 'return_synth_proj', 'return_Ereg', 'find_coefficients', 'find_orientation', 'find_grad', 'phi_det', 'theta_det', 'l', 'm', 'nx', 'ny', 'nz', 'numOfsegments', 'numOfvoxels', 'mask3D', 'numOfpixels', 'numOfordersopt', 'theta_struct', 'phi_struct', 'a', 'ii', 'grad_a', 'grad_theta_struct', 'grad_phi_struct', 'zeros_struct', 'Ylm_coef', 'a_temp', 'a_temp1', 'a_temp2', 'ones_struct', 'unit_q_beamline', 'N', 'x', 'y', 'z', 'X', 'Y', 'Z', 'current_projection', '__function_workspace__'])\n"
     ]
    }
   ],
   "source": [
    "print(workspace.keys())"
   ]
  },
  {
   "cell_type": "code",
   "execution_count": 94,
   "metadata": {},
   "outputs": [],
   "source": [
    "theta_struct_it = workspace['theta_struct']\n",
    "phi_struct_it = workspace['phi_struct']\n",
    "a_temp_it =    workspace['a_temp']\n",
    "ny = workspace['ny']\n",
    "nx = workspace['nx']\n",
    "nz = workspace['nz']\n",
    "numOfsegments = workspace['numOfsegments']\n",
    "current_projection = workspace['projection'][0,0]#[2]\n",
    "p = workspace['p']\n",
    "X = workspace['X']\n",
    "Y = workspace['Y']\n",
    "Z = workspace['Z']\n",
    "numOfpixels = workspace['numOfpixels']\n",
    "unit_q_beamline = workspace['unit_q_beamline']\n",
    "Ylm_coef = workspace['Ylm_coef']\n",
    "find_coefficients = workspace['find_coefficients']\n",
    "find_orientation = workspace['find_orientation']\n",
    "numOfCoeffs = workspace['numOfCoeffs']\n",
    "numOfvoxels = workspace['numOfvoxels']\n",
    "\n"
   ]
  },
  {
   "cell_type": "code",
   "execution_count": 101,
   "metadata": {},
   "outputs": [
    {
     "name": "stdout",
     "output_type": "stream",
     "text": [
      "[[array([[0]], dtype=uint8)]]\n"
     ]
    }
   ],
   "source": [
    "print(p['GPU'])"
   ]
  },
  {
   "cell_type": "code",
   "execution_count": 5,
   "metadata": {},
   "outputs": [
    {
     "name": "stdout",
     "output_type": "stream",
     "text": [
      "<class 'numpy.ndarray'>\n",
      "64\n",
      "<class 'int'>\n",
      "tensor([[ 1.,  2.,  3.,  4.],\n",
      "        [ 5.,  6.,  7.,  8.],\n",
      "        [ 9., 10., 11., 12.],\n",
      "        [13., 14., 15., 16.]], dtype=torch.float64)\n",
      "torch.Size([4, 4, 8])\n",
      "(4, 4, 8)\n",
      "(3, 3)\n"
     ]
    }
   ],
   "source": [
    "#print(current_projection[0,0][2].shape)\n",
    "# Testing shit\n",
    "\n",
    "print(type(numOfvoxels))\n",
    "\n",
    "yo = int(np.squeeze(numOfvoxels))\n",
    "\n",
    "print(yo)\n",
    "\n",
    "print(type(yo))\n",
    "\n",
    "new_tens = torch.tensor([1,2,3,4,5,6,7,8,9,10,11,12,13,14,15,16], dtype=torch.float64).reshape(4,4)\n",
    "print(new_tens)\n",
    "\n",
    "\n",
    "A = torch.rand((3,3,64))\n",
    "B = torch.rand((3,8))\n",
    "#C = torch.matmul(A[0], B) # Have to figure out how this works. \n",
    "\n",
    "projection_data = torch.tensor(\n",
    "        current_projection[\"data\"])\n",
    "\n",
    "print(projection_data.shape)\n",
    "\n",
    "print(current_projection[\"data\"].shape)\n",
    "print(current_projection[\"Rot_exp\"].shape)\n"
   ]
  },
  {
   "cell_type": "markdown",
   "metadata": {},
   "source": [
    "Done debugging. Error is at least correct. "
   ]
  },
  {
   "cell_type": "code",
   "execution_count": 12,
   "metadata": {},
   "outputs": [
    {
     "name": "stdout",
     "output_type": "stream",
     "text": [
      "48.3 ms ± 2.65 ms per loop (mean ± std. dev. of 7 runs, 10 loops each)\n"
     ]
    }
   ],
   "source": [
    "%timeit main(theta_struct_it, phi_struct_it, a_temp_it, ny, nx, nz, numOfsegments, current_projection, p, X, Y, Z, numOfpixels, unit_q_beamline, Ylm_coef, find_coefficients, find_orientation, numOfCoeffs, numOfvoxels, find_grad=True)"
   ]
  },
  {
   "cell_type": "code",
   "execution_count": 146,
   "metadata": {},
   "outputs": [
    {
     "name": "stdout",
     "output_type": "stream",
     "text": [
      "[[1 0 0]\n",
      " [1 0 1]\n",
      " [1 0 2]\n",
      " [1 0 3]]\n",
      "[16 17 18 19]\n"
     ]
    }
   ],
   "source": [
    "x = np.arange(64).reshape(4,4,4)\n",
    "y = np.arange(64).reshape(4,4,4)\n",
    "\n",
    "lower = np.argwhere( x>10)\n",
    "upper = np.argwhere(x<20)\n",
    "\n",
    "y = np.argwhere( (x>10) & (x<20) & (y>15) & (y<25) )\n",
    "print(y)\n",
    "\n",
    "# Next is out of bounds. Index 5 found when size is 4, index 3 is therefore max. \n",
    "print(x[y[:,0], y[:,1], y[:,2] ])"
   ]
  },
  {
   "cell_type": "code",
   "execution_count": 93,
   "metadata": {},
   "outputs": [
    {
     "name": "stdout",
     "output_type": "stream",
     "text": [
      "torch.Size([140, 8])\n",
      "torch.Size([140, 8])\n",
      "torch.Size([8, 7, 7])\n"
     ]
    }
   ],
   "source": [
    "\n",
    "# print(X)\n",
    "# print('\\n')\n",
    "# print(Y)\n",
    "proj = torch.zeros((7,7,8))\n",
    "Ax =  np.floor(\n",
    "    X - (-1.38545603) + 1\n",
    "    ).astype(int)\n",
    " # Drop +1 due to 0-indexing. AI suggested, but believe I should copy cpp-code\n",
    "Ay = np.floor(Y - (-0.19120833) + 1).astype(int)\n",
    "\n",
    "# print(Ax)\n",
    "# print(Ay)\n",
    "\n",
    "indices = np.argwhere( (Ax>0) & (Ax<7) & (Ay>0) & (Ay<7) )\n",
    "\n",
    "# print(Ax[indices[:,0], indices[:,1], indices[:,2] ])\n",
    "# print(Ay[indices[:,0], indices[:,1], indices[:,2] ])\n",
    "#print(indices[:,:])\n",
    "np.random.seed(0)\n",
    "temp = np.random.random(len(indices[:,0])  )\n",
    "\n",
    "temp = torch.from_numpy(temp).unsqueeze(1)\n",
    "temp = temp.expand(-1,8)\n",
    "tomo = torch.ones((7,7,7,8))\n",
    "\n",
    "proj[Ay[indices[:,0], indices[:,1], indices[:,2] ], Ax[indices[:,0], indices[:,1], indices[:,2] ] ] +=  tomo[indices[:,0], indices[:,1], indices[:,2]] * temp\n",
    "\n",
    "print( (temp* tomo[indices[:,0], indices[:,1], indices[:,2]]).shape ) # Why is the shape 140 times 140??? Some weird broadcasting going on.\n",
    "print(proj[Ay[indices[:,0], indices[:,1], indices[:,2] ], Ax[indices[:,0], indices[:,1], indices[:,2] ] ].shape)\n",
    "print(np.transpose(proj, (2,0,1)).shape )"
   ]
  },
  {
   "cell_type": "code",
   "execution_count": 94,
   "metadata": {},
   "outputs": [
    {
     "name": "stdout",
     "output_type": "stream",
     "text": [
      "(array([1, 1, 1, 1, 1, 1, 1, 1, 1, 1, 1, 1, 1, 1, 1, 1, 1, 1, 1, 1, 1, 1,\n",
      "       1, 1, 1, 1, 1, 1, 1, 1, 1, 1, 1, 1, 1, 2, 2, 2, 2, 2, 2, 2, 2, 2,\n",
      "       2, 2, 2, 2, 2, 2, 2, 2, 2, 2, 2, 2, 2, 2, 2, 2, 2, 2, 2, 2, 2, 2,\n",
      "       2, 2, 2, 2, 3, 3, 3, 3, 3, 3, 3, 3, 3, 3, 3, 3, 3, 3, 3, 3, 3, 3,\n",
      "       3, 3, 3, 3, 3, 3, 3, 3, 3, 3, 3, 3, 3, 3, 3, 3, 3, 4, 4, 4, 4, 4,\n",
      "       4, 4, 4, 4, 4, 4, 4, 4, 4, 4, 4, 4, 4, 4, 4, 4, 4, 4, 4, 4, 4, 4,\n",
      "       4, 4, 4, 4, 4, 4, 4, 4]), array([1, 1, 1, 1, 1, 1, 1, 2, 2, 2, 2, 2, 2, 2, 3, 3, 3, 3, 3, 3, 3, 4,\n",
      "       4, 4, 4, 4, 4, 4, 5, 5, 5, 5, 5, 5, 5, 1, 1, 1, 1, 1, 1, 1, 2, 2,\n",
      "       2, 2, 2, 2, 2, 3, 3, 3, 3, 3, 3, 3, 4, 4, 4, 4, 4, 4, 4, 5, 5, 5,\n",
      "       5, 5, 5, 5, 1, 1, 1, 1, 1, 1, 1, 2, 2, 2, 2, 2, 2, 2, 3, 3, 3, 3,\n",
      "       3, 3, 3, 4, 4, 4, 4, 4, 4, 4, 5, 5, 5, 5, 5, 5, 5, 1, 1, 1, 1, 1,\n",
      "       1, 1, 2, 2, 2, 2, 2, 2, 2, 3, 3, 3, 3, 3, 3, 3, 4, 4, 4, 4, 4, 4,\n",
      "       4, 5, 5, 5, 5, 5, 5, 5]))\n",
      "(array([0, 0, 0, 0, 0, 0, 0, 0, 0, 0, 0, 0, 0, 0, 0, 0, 0, 0, 0, 0, 0, 0,\n",
      "       0, 0, 0, 0, 0, 0, 0, 0, 0, 0, 0, 0, 0, 1, 1, 1, 1, 1, 1, 1, 1, 1,\n",
      "       1, 1, 1, 1, 1, 1, 1, 1, 1, 1, 1, 1, 1, 1, 1, 1, 1, 1, 1, 1, 1, 1,\n",
      "       1, 1, 1, 1, 2, 2, 2, 2, 2, 2, 2, 2, 2, 2, 2, 2, 2, 2, 2, 2, 2, 2,\n",
      "       2, 2, 2, 2, 2, 2, 2, 2, 2, 2, 2, 2, 2, 2, 2, 2, 2, 3, 3, 3, 3, 3,\n",
      "       3, 3, 3, 3, 3, 3, 3, 3, 3, 3, 3, 3, 3, 3, 3, 3, 3, 3, 3, 3, 3, 3,\n",
      "       3, 3, 3, 3, 3, 3, 3, 3]), array([1, 1, 1, 1, 1, 1, 1, 2, 2, 2, 2, 2, 2, 2, 3, 3, 3, 3, 3, 3, 3, 4,\n",
      "       4, 4, 4, 4, 4, 4, 5, 5, 5, 5, 5, 5, 5, 1, 1, 1, 1, 1, 1, 1, 2, 2,\n",
      "       2, 2, 2, 2, 2, 3, 3, 3, 3, 3, 3, 3, 4, 4, 4, 4, 4, 4, 4, 5, 5, 5,\n",
      "       5, 5, 5, 5, 1, 1, 1, 1, 1, 1, 1, 2, 2, 2, 2, 2, 2, 2, 3, 3, 3, 3,\n",
      "       3, 3, 3, 4, 4, 4, 4, 4, 4, 4, 5, 5, 5, 5, 5, 5, 5, 1, 1, 1, 1, 1,\n",
      "       1, 1, 2, 2, 2, 2, 2, 2, 2, 3, 3, 3, 3, 3, 3, 3, 4, 4, 4, 4, 4, 4,\n",
      "       4, 5, 5, 5, 5, 5, 5, 5]))\n",
      "(array([1, 1, 1, 1, 1, 1, 1, 1, 1, 1, 1, 1, 1, 1, 1, 1, 1, 1, 1, 1, 1, 1,\n",
      "       1, 1, 1, 1, 1, 1, 1, 1, 1, 1, 1, 1, 1, 2, 2, 2, 2, 2, 2, 2, 2, 2,\n",
      "       2, 2, 2, 2, 2, 2, 2, 2, 2, 2, 2, 2, 2, 2, 2, 2, 2, 2, 2, 2, 2, 2,\n",
      "       2, 2, 2, 2, 3, 3, 3, 3, 3, 3, 3, 3, 3, 3, 3, 3, 3, 3, 3, 3, 3, 3,\n",
      "       3, 3, 3, 3, 3, 3, 3, 3, 3, 3, 3, 3, 3, 3, 3, 3, 3, 4, 4, 4, 4, 4,\n",
      "       4, 4, 4, 4, 4, 4, 4, 4, 4, 4, 4, 4, 4, 4, 4, 4, 4, 4, 4, 4, 4, 4,\n",
      "       4, 4, 4, 4, 4, 4, 4, 4]), array([0, 0, 0, 0, 0, 0, 0, 1, 1, 1, 1, 1, 1, 1, 2, 2, 2, 2, 2, 2, 2, 3,\n",
      "       3, 3, 3, 3, 3, 3, 4, 4, 4, 4, 4, 4, 4, 0, 0, 0, 0, 0, 0, 0, 1, 1,\n",
      "       1, 1, 1, 1, 1, 2, 2, 2, 2, 2, 2, 2, 3, 3, 3, 3, 3, 3, 3, 4, 4, 4,\n",
      "       4, 4, 4, 4, 0, 0, 0, 0, 0, 0, 0, 1, 1, 1, 1, 1, 1, 1, 2, 2, 2, 2,\n",
      "       2, 2, 2, 3, 3, 3, 3, 3, 3, 3, 4, 4, 4, 4, 4, 4, 4, 0, 0, 0, 0, 0,\n",
      "       0, 0, 1, 1, 1, 1, 1, 1, 1, 2, 2, 2, 2, 2, 2, 2, 3, 3, 3, 3, 3, 3,\n",
      "       3, 4, 4, 4, 4, 4, 4, 4]))\n",
      "(array([0, 0, 0, 0, 0, 0, 0, 0, 0, 0, 0, 0, 0, 0, 0, 0, 0, 0, 0, 0, 0, 0,\n",
      "       0, 0, 0, 0, 0, 0, 0, 0, 0, 0, 0, 0, 0, 1, 1, 1, 1, 1, 1, 1, 1, 1,\n",
      "       1, 1, 1, 1, 1, 1, 1, 1, 1, 1, 1, 1, 1, 1, 1, 1, 1, 1, 1, 1, 1, 1,\n",
      "       1, 1, 1, 1, 2, 2, 2, 2, 2, 2, 2, 2, 2, 2, 2, 2, 2, 2, 2, 2, 2, 2,\n",
      "       2, 2, 2, 2, 2, 2, 2, 2, 2, 2, 2, 2, 2, 2, 2, 2, 2, 3, 3, 3, 3, 3,\n",
      "       3, 3, 3, 3, 3, 3, 3, 3, 3, 3, 3, 3, 3, 3, 3, 3, 3, 3, 3, 3, 3, 3,\n",
      "       3, 3, 3, 3, 3, 3, 3, 3]), array([0, 0, 0, 0, 0, 0, 0, 1, 1, 1, 1, 1, 1, 1, 2, 2, 2, 2, 2, 2, 2, 3,\n",
      "       3, 3, 3, 3, 3, 3, 4, 4, 4, 4, 4, 4, 4, 0, 0, 0, 0, 0, 0, 0, 1, 1,\n",
      "       1, 1, 1, 1, 1, 2, 2, 2, 2, 2, 2, 2, 3, 3, 3, 3, 3, 3, 3, 4, 4, 4,\n",
      "       4, 4, 4, 4, 0, 0, 0, 0, 0, 0, 0, 1, 1, 1, 1, 1, 1, 1, 2, 2, 2, 2,\n",
      "       2, 2, 2, 3, 3, 3, 3, 3, 3, 3, 4, 4, 4, 4, 4, 4, 4, 0, 0, 0, 0, 0,\n",
      "       0, 0, 1, 1, 1, 1, 1, 1, 1, 2, 2, 2, 2, 2, 2, 2, 3, 3, 3, 3, 3, 3,\n",
      "       3, 4, 4, 4, 4, 4, 4, 4]))\n"
     ]
    }
   ],
   "source": [
    "print( (Ay[indices[:,0], indices[:,1], indices[:,2] ], Ax[indices[:,0], indices[:,1], indices[:,2] ]))\n",
    "print( (Ay[indices[:,0], indices[:,1], indices[:,2] ] -1, Ax[indices[:,0], indices[:,1], indices[:,2] ]) )\n",
    "print( (Ay[indices[:,0], indices[:,1], indices[:,2] ], Ax[indices[:,0], indices[:,1], indices[:,2] ] -1) )\n",
    "print( (Ay[indices[:,0], indices[:,1], indices[:,2] ] -1, Ax[indices[:,0], indices[:,1], indices[:,2] ] -1) )"
   ]
  },
  {
   "cell_type": "code",
   "execution_count": 201,
   "metadata": {},
   "outputs": [],
   "source": [
    "# Check out nan values\n",
    "\n",
    "permuted_data = np.load(r\"../permuted_data.npy\") #np.load(r'../Data Sets/Debug Data/permuted_data.npy')\n",
    "proj_out_all = np.load(r\"../proj_out_all.npy\") #np.load(r'../Data Sets/Debug Data/proj_out_all.npy')\n",
    "aux_diff_poisson = np.load(r\"../aux_diff_poisson.npy\") #np.load(r'../Data Sets/Debug Data/aux_diff_poisson.npy')"
   ]
  },
  {
   "cell_type": "code",
   "execution_count": 202,
   "metadata": {},
   "outputs": [
    {
     "name": "stdout",
     "output_type": "stream",
     "text": [
      "(8, 4, 4)\n",
      "(8, 4, 4)\n",
      "(8, 4, 4)\n"
     ]
    }
   ],
   "source": [
    "print(permuted_data.shape)\n",
    "print(proj_out_all.shape)\n",
    "print(aux_diff_poisson.shape)"
   ]
  },
  {
   "cell_type": "code",
   "execution_count": 209,
   "metadata": {},
   "outputs": [
    {
     "name": "stdout",
     "output_type": "stream",
     "text": [
      "[  0.69836503   0.839173    21.605843   216.13242    102.646805\n",
      "   0.92443      0.6229484    0.5012255 ]\n",
      "[-9.80411e-11 -9.80411e-11 -9.80411e-11 -9.80411e-11 -9.80411e-11\n",
      " -9.80411e-11 -9.80411e-11 -9.80411e-11]\n",
      "[nan nan nan nan nan nan nan nan]\n"
     ]
    }
   ],
   "source": [
    "print(permuted_data[:,0,0])\n",
    "print(proj_out_all[:,0,0])\n",
    "print(aux_diff_poisson[:,0,0])\n",
    "# negative projection data..."
   ]
  },
  {
   "cell_type": "code",
   "execution_count": 124,
   "metadata": {},
   "outputs": [
    {
     "name": "stdout",
     "output_type": "stream",
     "text": [
      "tensor([[[2., 2., 2., 2., 2., 2., 2., 2.],\n",
      "         [0., 0., 0., 0., 0., 0., 0., 0.]],\n",
      "\n",
      "        [[0., 0., 0., 0., 0., 0., 0., 0.],\n",
      "         [0., 0., 0., 0., 0., 0., 0., 0.]]], dtype=torch.float64)\n"
     ]
    }
   ],
   "source": [
    "endgame = torch.zeros((2,2,8), dtype=torch.float64)\n",
    "indices = torch.tensor( [[0,0], [0,0]] )\n",
    "values = torch.ones( (2,8), dtype=torch.float64) \n",
    "#endgame[indices[:,0], indices[:,1], indices[:,2]] += values\n",
    "\n",
    "#endgame[indices[:,0], indices[:,1], indices[:,2]] += values\n",
    "#endgame.scatter_add_(0, indices, values)\n",
    "endgame = torch.index_put(endgame, (indices[:,0], indices[:,1]), values, accumulate=True) #endgame.index_add(0, indices, values, alpha=1)\n",
    "\n",
    "\n",
    "print(endgame) # This is the issue"
   ]
  },
  {
   "cell_type": "code",
   "execution_count": 14,
   "metadata": {},
   "outputs": [],
   "source": [
    "projections = scipy.io.loadmat(r'../Data Sets/Debug Data/projections_all.mat')"
   ]
  },
  {
   "cell_type": "code",
   "execution_count": 15,
   "metadata": {},
   "outputs": [
    {
     "name": "stdout",
     "output_type": "stream",
     "text": [
      "dict_keys(['__header__', '__version__', '__globals__', 'projection'])\n"
     ]
    }
   ],
   "source": [
    "print(projections.keys())"
   ]
  },
  {
   "cell_type": "code",
   "execution_count": 23,
   "metadata": {},
   "outputs": [
    {
     "name": "stdout",
     "output_type": "stream",
     "text": [
      "(1, 255)\n"
     ]
    }
   ],
   "source": [
    "projection = projections[\"projection\"]\n",
    "print(projection[:,:].shape)"
   ]
  },
  {
   "cell_type": "code",
   "execution_count": 72,
   "metadata": {},
   "outputs": [],
   "source": [
    "all_projection_data = projection[\"data\"][0,:]"
   ]
  },
  {
   "cell_type": "code",
   "execution_count": 73,
   "metadata": {},
   "outputs": [
    {
     "name": "stdout",
     "output_type": "stream",
     "text": [
      "(7, 7, 8)\n"
     ]
    }
   ],
   "source": [
    "print(all_projection_data[0].shape)"
   ]
  },
  {
   "cell_type": "code",
   "execution_count": 71,
   "metadata": {},
   "outputs": [
    {
     "name": "stdout",
     "output_type": "stream",
     "text": [
      "(2,)\n"
     ]
    },
    {
     "ename": "IndexError",
     "evalue": "too many indices for array: array is 1-dimensional, but 3 were indexed",
     "output_type": "error",
     "traceback": [
      "\u001b[1;31m---------------------------------------------------------------------------\u001b[0m",
      "\u001b[1;31mIndexError\u001b[0m                                Traceback (most recent call last)",
      "\u001b[1;32mc:\\Users\\Bruker\\OneDrive\\Dokumenter\\NTNU\\XRD_CT\\Autodiff_package\\debugging_torch_pass.ipynb Cell 20\u001b[0m in \u001b[0;36m<cell line: 4>\u001b[1;34m()\u001b[0m\n\u001b[0;32m      <a href='vscode-notebook-cell:/c%3A/Users/Bruker/OneDrive/Dokumenter/NTNU/XRD_CT/Autodiff_package/debugging_torch_pass.ipynb#X25sZmlsZQ%3D%3D?line=1'>2</a>\u001b[0m \u001b[39mprint\u001b[39m(all_projection_data[indices]\u001b[39m.\u001b[39mshape)\n\u001b[0;32m      <a href='vscode-notebook-cell:/c%3A/Users/Bruker/OneDrive/Dokumenter/NTNU/XRD_CT/Autodiff_package/debugging_torch_pass.ipynb#X25sZmlsZQ%3D%3D?line=2'>3</a>\u001b[0m arr \u001b[39m=\u001b[39m np\u001b[39m.\u001b[39mzeros((\u001b[39m2\u001b[39m,\u001b[39m7\u001b[39m,\u001b[39m7\u001b[39m,\u001b[39m8\u001b[39m))\n\u001b[1;32m----> <a href='vscode-notebook-cell:/c%3A/Users/Bruker/OneDrive/Dokumenter/NTNU/XRD_CT/Autodiff_package/debugging_torch_pass.ipynb#X25sZmlsZQ%3D%3D?line=3'>4</a>\u001b[0m arr[indices, :, :, :] \u001b[39m=\u001b[39m all_projection_data[indices][:,:,:]\n",
      "\u001b[1;31mIndexError\u001b[0m: too many indices for array: array is 1-dimensional, but 3 were indexed"
     ]
    }
   ],
   "source": [
    "indices = np.arange(0,2, dtype=int)\n",
    "print(all_projection_data[indices].shape)\n",
    "arr = np.zeros((2,7,7,8))\n",
    "arr[indices, :, :, :] = all_projection_data[indices][:,:,:]\n"
   ]
  },
  {
   "cell_type": "code",
   "execution_count": 90,
   "metadata": {},
   "outputs": [
    {
     "name": "stdout",
     "output_type": "stream",
     "text": [
      "[[0. 1.]\n",
      " [0. 1.]]\n",
      "[1. 1.]\n"
     ]
    }
   ],
   "source": [
    "a = np.ones((2,2,2))\n",
    "b = np.ones((2,2))\n",
    "\n",
    "c = a*b\n",
    "b[:,0] = 0\n",
    "print(b)\n",
    "print(np.ndarray.max(b, axis = 1))"
   ]
  },
  {
   "cell_type": "code",
   "execution_count": 102,
   "metadata": {},
   "outputs": [
    {
     "name": "stdout",
     "output_type": "stream",
     "text": [
      "dict_keys(['__header__', '__version__', '__globals__', 'opt_inputs', 'p', 's', 'projection', 'E', 'skip_optimization', 'find_grad', 'None', 'phi_det', 'theta_det', 'nx', 'ny', 'nz', 'numOfsegments', 'numOfvoxels', 'mask3D', 'numOfpixels', 'theta_struct', 'phi_struct', 'A', 'B', 'unit_q_beamline', 'N', 'x', 'y', 'z', 'X', 'Y', 'Z', '__function_workspace__'])\n"
     ]
    },
    {
     "name": "stderr",
     "output_type": "stream",
     "text": [
      "c:\\Users\\Bruker\\anaconda3\\envs\\SAXSTT\\lib\\site-packages\\scipy\\io\\matlab\\mio.py:226: MatReadWarning: Duplicate variable name \"None\" in stream - replacing previous with new\n",
      "Consider mio5.varmats_from_mat to split file into single variable files\n",
      "  matfile_dict = MR.get_variables(variable_names)\n"
     ]
    }
   ],
   "source": [
    "new_model_workspace = scipy.io.loadmat(r\"../Data Sets/Debug Data/new_model_python_workspace.mat\")\n",
    "print(new_model_workspace.keys())"
   ]
  },
  {
   "cell_type": "code",
   "execution_count": 103,
   "metadata": {},
   "outputs": [],
   "source": [
    "p_projection_filename = new_model_workspace[\"p\"][\"projection_filename\"][0,0][0]"
   ]
  },
  {
   "cell_type": "code",
   "execution_count": 104,
   "metadata": {},
   "outputs": [
    {
     "name": "stdout",
     "output_type": "stream",
     "text": [
      "C:\\Users\\Bruker\\OneDrive\\Dokumenter\\NTNU\\XRD_CT/Data sets/Validation_periodic_filter1_3cube_4off_0align.mat\n"
     ]
    }
   ],
   "source": [
    "print(p_projection_filename)"
   ]
  },
  {
   "cell_type": "code",
   "execution_count": null,
   "metadata": {},
   "outputs": [],
   "source": []
  }
 ],
 "metadata": {
  "kernelspec": {
   "display_name": "Python 3.8.13 ('SAXSTT')",
   "language": "python",
   "name": "python3"
  },
  "language_info": {
   "codemirror_mode": {
    "name": "ipython",
    "version": 3
   },
   "file_extension": ".py",
   "mimetype": "text/x-python",
   "name": "python",
   "nbconvert_exporter": "python",
   "pygments_lexer": "ipython3",
   "version": "3.8.13"
  },
  "orig_nbformat": 4,
  "vscode": {
   "interpreter": {
    "hash": "78870d1cbce91eda9675188e6ab147aa27f76fe3d9f15cc56f826954e0ae3aaf"
   }
  }
 },
 "nbformat": 4,
 "nbformat_minor": 2
}
