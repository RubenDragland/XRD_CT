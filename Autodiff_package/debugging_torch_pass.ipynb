{
 "cells": [
  {
   "cell_type": "code",
   "execution_count": 32,
   "metadata": {},
   "outputs": [
    {
     "name": "stdout",
     "output_type": "stream",
     "text": [
      "The autoreload extension is already loaded. To reload it, use:\n",
      "  %reload_ext autoreload\n"
     ]
    }
   ],
   "source": [
    "from forward_backward_AD import *\n",
    "\n",
    "import numpy as np\n",
    "import torch\n",
    "import time, timeit\n",
    "\n",
    "import scipy.io\n",
    "\n",
    "%load_ext autoreload\n",
    "%autoreload 2"
   ]
  },
  {
   "cell_type": "code",
   "execution_count": 2,
   "metadata": {},
   "outputs": [
    {
     "name": "stderr",
     "output_type": "stream",
     "text": [
      "c:\\Users\\Bruker\\anaconda3\\envs\\SAXSTT\\lib\\site-packages\\scipy\\io\\matlab\\mio.py:226: MatReadWarning: Duplicate variable name \"None\" in stream - replacing previous with new\n",
      "Consider mio5.varmats_from_mat to split file into single variable files\n",
      "  matfile_dict = MR.get_variables(variable_names)\n"
     ]
    }
   ],
   "source": [
    "workspace = scipy.io.loadmat(r'../Data Sets/Debug Data/workspace_calc_grad.mat')"
   ]
  },
  {
   "cell_type": "code",
   "execution_count": 3,
   "metadata": {},
   "outputs": [
    {
     "name": "stdout",
     "output_type": "stream",
     "text": [
      "dict_keys(['__header__', '__version__', '__globals__', 'opt_inputs', 'p', 's', 'projection', 'E', 'numOfCoeffs', 'skip_optimization', 'None', 'return_synth_proj', 'return_Ereg', 'find_coefficients', 'find_orientation', 'find_grad', 'phi_det', 'theta_det', 'l', 'm', 'nx', 'ny', 'nz', 'numOfsegments', 'numOfvoxels', 'mask3D', 'numOfpixels', 'numOfordersopt', 'theta_struct', 'phi_struct', 'a', 'ii', 'grad_a', 'grad_theta_struct', 'grad_phi_struct', 'zeros_struct', 'Ylm_coef', 'a_temp', 'a_temp1', 'a_temp2', 'ones_struct', 'unit_q_beamline', 'N', 'x', 'y', 'z', 'X', 'Y', 'Z', '__function_workspace__'])\n"
     ]
    }
   ],
   "source": [
    "print(workspace.keys())"
   ]
  },
  {
   "cell_type": "code",
   "execution_count": 4,
   "metadata": {},
   "outputs": [],
   "source": [
    "theta_struct_it = workspace['theta_struct']\n",
    "phi_struct_it = workspace['phi_struct']\n",
    "a_temp_it =    workspace['a_temp']\n",
    "ny = workspace['ny']\n",
    "nx = workspace['nx']\n",
    "nz = workspace['nz']\n",
    "numOfsegments = workspace['numOfsegments']\n",
    "current_projection = workspace['projection'][0,0]#[2]\n",
    "p = workspace['p']\n",
    "X = workspace['X']\n",
    "Y = workspace['Y']\n",
    "Z = workspace['Z']\n",
    "numOfpixels = workspace['numOfpixels']\n",
    "unit_q_beamline = workspace['unit_q_beamline']\n",
    "Ylm_coef = workspace['Ylm_coef']\n",
    "find_coefficients = workspace['find_coefficients']\n",
    "find_orientation = workspace['find_orientation']\n",
    "numOfCoeffs = workspace['numOfCoeffs']\n",
    "numOfvoxels = workspace['numOfvoxels']\n",
    "\n"
   ]
  },
  {
   "cell_type": "code",
   "execution_count": 39,
   "metadata": {},
   "outputs": [
    {
     "name": "stdout",
     "output_type": "stream",
     "text": [
      "<class 'numpy.ndarray'>\n",
      "64\n",
      "<class 'int'>\n",
      "tensor([[ 1.,  2.,  3.,  4.],\n",
      "        [ 5.,  6.,  7.,  8.],\n",
      "        [ 9., 10., 11., 12.],\n",
      "        [13., 14., 15., 16.]], dtype=torch.float64)\n"
     ]
    },
    {
     "ename": "RuntimeError",
     "evalue": "mat1 and mat2 shapes cannot be multiplied (3x64 and 3x8)",
     "output_type": "error",
     "traceback": [
      "\u001b[1;31m---------------------------------------------------------------------------\u001b[0m",
      "\u001b[1;31mRuntimeError\u001b[0m                              Traceback (most recent call last)",
      "\u001b[1;32mc:\\Users\\Bruker\\OneDrive\\Dokumenter\\NTNU\\XRD_CT\\Autodiff_package\\debugging_torch_pass.ipynb Cell 5\u001b[0m in \u001b[0;36m<cell line: 18>\u001b[1;34m()\u001b[0m\n\u001b[0;32m     <a href='vscode-notebook-cell:/c%3A/Users/Bruker/OneDrive/Dokumenter/NTNU/XRD_CT/Autodiff_package/debugging_torch_pass.ipynb#W4sZmlsZQ%3D%3D?line=15'>16</a>\u001b[0m A \u001b[39m=\u001b[39m torch\u001b[39m.\u001b[39mrand((\u001b[39m3\u001b[39m,\u001b[39m3\u001b[39m,\u001b[39m64\u001b[39m))\n\u001b[0;32m     <a href='vscode-notebook-cell:/c%3A/Users/Bruker/OneDrive/Dokumenter/NTNU/XRD_CT/Autodiff_package/debugging_torch_pass.ipynb#W4sZmlsZQ%3D%3D?line=16'>17</a>\u001b[0m B \u001b[39m=\u001b[39m torch\u001b[39m.\u001b[39mrand((\u001b[39m3\u001b[39m,\u001b[39m8\u001b[39m))\n\u001b[1;32m---> <a href='vscode-notebook-cell:/c%3A/Users/Bruker/OneDrive/Dokumenter/NTNU/XRD_CT/Autodiff_package/debugging_torch_pass.ipynb#W4sZmlsZQ%3D%3D?line=17'>18</a>\u001b[0m C \u001b[39m=\u001b[39m torch\u001b[39m.\u001b[39;49mmatmul(A[\u001b[39m0\u001b[39;49m], B)\n",
      "\u001b[1;31mRuntimeError\u001b[0m: mat1 and mat2 shapes cannot be multiplied (3x64 and 3x8)"
     ]
    }
   ],
   "source": [
    "#print(current_projection[0,0][2].shape)\n",
    "# Testing shit\n",
    "\n",
    "print(type(numOfvoxels))\n",
    "\n",
    "yo = int(np.squeeze(numOfvoxels))\n",
    "\n",
    "print(yo)\n",
    "\n",
    "print(type(yo))\n",
    "\n",
    "new_tens = torch.tensor([1,2,3,4,5,6,7,8,9,10,11,12,13,14,15,16], dtype=torch.float64).reshape(4,4)\n",
    "print(new_tens)\n",
    "\n",
    "\n",
    "A = torch.rand((3,3,64))\n",
    "B = torch.rand((3,8))\n",
    "C = torch.matmul(A[0], B) # Have to figure out how this works. \n"
   ]
  },
  {
   "cell_type": "code",
   "execution_count": 34,
   "metadata": {},
   "outputs": [
    {
     "name": "stderr",
     "output_type": "stream",
     "text": [
      "DEBUG:root:Rot_str shape: torch.Size([3, 3, 64])\n",
      "DEBUG:root:unit_q_object shape: torch.Size([3, 8])\n"
     ]
    },
    {
     "ename": "RuntimeError",
     "evalue": "mat1 and mat2 shapes cannot be multiplied (9x64 and 3x8)",
     "output_type": "error",
     "traceback": [
      "\u001b[1;31m---------------------------------------------------------------------------\u001b[0m",
      "\u001b[1;31mRuntimeError\u001b[0m                              Traceback (most recent call last)",
      "\u001b[1;32mc:\\Users\\Bruker\\OneDrive\\Dokumenter\\NTNU\\XRD_CT\\Autodiff_package\\debugging_torch_pass.ipynb Cell 6\u001b[0m in \u001b[0;36m<cell line: 1>\u001b[1;34m()\u001b[0m\n\u001b[1;32m----> <a href='vscode-notebook-cell:/c%3A/Users/Bruker/OneDrive/Dokumenter/NTNU/XRD_CT/Autodiff_package/debugging_torch_pass.ipynb#W5sZmlsZQ%3D%3D?line=0'>1</a>\u001b[0m main(theta_struct_it, phi_struct_it, a_temp_it, ny, nx, nz, numOfsegments, current_projection, p, X, Y, Z, numOfpixels, unit_q_beamline, Ylm_coef, find_coefficients, find_orientation, numOfCoeffs, numOfvoxels)\n",
      "File \u001b[1;32mc:\\Users\\Bruker\\OneDrive\\Dokumenter\\NTNU\\XRD_CT\\Autodiff_package\\forward_backward_AD.py:43\u001b[0m, in \u001b[0;36mmain\u001b[1;34m(theta_struct_it, phi_struct_it, a_temp_it, ny, nx, nz, numOfsegments, current_projection, p, X, Y, Z, numOfpixels, unit_q_beamline, Ylm_coef, find_coefficients, find_orientation, numOfCoeffs, numOfvoxels)\u001b[0m\n\u001b[0;32m     36\u001b[0m \u001b[39m\"\"\"\u001b[39;00m\n\u001b[0;32m     37\u001b[0m \u001b[39mMain function.\u001b[39;00m\n\u001b[0;32m     38\u001b[0m \u001b[39m\"\"\"\u001b[39;00m\n\u001b[0;32m     39\u001b[0m theta_struct_it, phi_struct_it, a_temp_it \u001b[39m=\u001b[39m format_matlab_input(\n\u001b[0;32m     40\u001b[0m     theta_struct_it, phi_struct_it, a_temp_it\n\u001b[0;32m     41\u001b[0m )\n\u001b[1;32m---> 43\u001b[0m error_norm, AD_grad_coeff, AD_grad_theta, AD_grad_phi \u001b[39m=\u001b[39m SAXSTT_forward_backward(\n\u001b[0;32m     44\u001b[0m     theta_struct_it,\n\u001b[0;32m     45\u001b[0m     phi_struct_it,\n\u001b[0;32m     46\u001b[0m     a_temp_it,\n\u001b[0;32m     47\u001b[0m     ny,\n\u001b[0;32m     48\u001b[0m     nx,\n\u001b[0;32m     49\u001b[0m     nz,\n\u001b[0;32m     50\u001b[0m     numOfsegments,\n\u001b[0;32m     51\u001b[0m     current_projection,\n\u001b[0;32m     52\u001b[0m     p,\n\u001b[0;32m     53\u001b[0m     X,\n\u001b[0;32m     54\u001b[0m     Y,\n\u001b[0;32m     55\u001b[0m     Z,\n\u001b[0;32m     56\u001b[0m     numOfpixels,\n\u001b[0;32m     57\u001b[0m     unit_q_beamline,\n\u001b[0;32m     58\u001b[0m     Ylm_coef,\n\u001b[0;32m     59\u001b[0m     find_coefficients,\n\u001b[0;32m     60\u001b[0m     find_orientation,\n\u001b[0;32m     61\u001b[0m     numOfCoeffs,\n\u001b[0;32m     62\u001b[0m     numOfvoxels,\n\u001b[0;32m     63\u001b[0m )\n\u001b[0;32m     65\u001b[0m \u001b[39m# Format back function here.\u001b[39;00m\n\u001b[0;32m     66\u001b[0m error_norm \u001b[39m=\u001b[39m np\u001b[39m.\u001b[39mfloat64(error_norm)\n",
      "File \u001b[1;32mc:\\Users\\Bruker\\OneDrive\\Dokumenter\\NTNU\\XRD_CT\\Autodiff_package\\forward_backward_AD.py:135\u001b[0m, in \u001b[0;36mSAXSTT_forward_backward\u001b[1;34m(theta_struct_it, phi_struct_it, a_temp_it, ny, nx, nz, numOfsegments, current_projection, p, X, Y, Z, numOfpixels, unit_q_beamline, Ylm_coef, find_coefficients, find_orientation, numOfCoeffs, numOfvoxels)\u001b[0m\n\u001b[0;32m    132\u001b[0m     theta_struct_it\u001b[39m.\u001b[39mrequires_grad_(\u001b[39mTrue\u001b[39;00m)\u001b[39m.\u001b[39mto(device)\n\u001b[0;32m    133\u001b[0m     phi_struct_it\u001b[39m.\u001b[39mrequires_grad_(\u001b[39mTrue\u001b[39;00m)\u001b[39m.\u001b[39mto(device)\n\u001b[1;32m--> 135\u001b[0m error_norm, AD_grad_coeff, AD_grad_theta, AD_grad_phi \u001b[39m=\u001b[39m SAXS_AD_cost_function(\n\u001b[0;32m    136\u001b[0m     theta_struct_it,\n\u001b[0;32m    137\u001b[0m     phi_struct_it,\n\u001b[0;32m    138\u001b[0m     a_temp_it,\n\u001b[0;32m    139\u001b[0m     ny,\n\u001b[0;32m    140\u001b[0m     nx,\n\u001b[0;32m    141\u001b[0m     nz,\n\u001b[0;32m    142\u001b[0m     numOfsegments,\n\u001b[0;32m    143\u001b[0m     current_projection,\n\u001b[0;32m    144\u001b[0m     p,\n\u001b[0;32m    145\u001b[0m     X,\n\u001b[0;32m    146\u001b[0m     Y,\n\u001b[0;32m    147\u001b[0m     Z,\n\u001b[0;32m    148\u001b[0m     numOfpixels,\n\u001b[0;32m    149\u001b[0m     unit_q_beamline,\n\u001b[0;32m    150\u001b[0m     Ylm_coef,\n\u001b[0;32m    151\u001b[0m     find_coefficients,\n\u001b[0;32m    152\u001b[0m     find_orientation,\n\u001b[0;32m    153\u001b[0m     numOfCoeffs,\n\u001b[0;32m    154\u001b[0m     numOfvoxels,\n\u001b[0;32m    155\u001b[0m )\n\u001b[0;32m    157\u001b[0m \u001b[39mreturn\u001b[39;00m error_norm, AD_grad_coeff, AD_grad_theta, AD_grad_phi\n",
      "File \u001b[1;32mc:\\Users\\Bruker\\OneDrive\\Dokumenter\\NTNU\\XRD_CT\\Autodiff_package\\forward_backward_AD.py:229\u001b[0m, in \u001b[0;36mSAXS_AD_cost_function\u001b[1;34m(theta_struct, phi_struct, a_temp, ny, nx, nz, numOfsegments, current_projection, p, X, Y, Z, numOfpixels, unit_q_beamline, Ylm_coef, find_coefficients, find_orientation, numOfCoeffs, numOfvoxels)\u001b[0m\n\u001b[0;32m    226\u001b[0m logging\u001b[39m.\u001b[39mdebug(\u001b[39m\"\u001b[39m\u001b[39munit_q_object shape: \u001b[39m\u001b[39m{}\u001b[39;00m\u001b[39m\"\u001b[39m\u001b[39m.\u001b[39mformat(unit_q_object\u001b[39m.\u001b[39mshape))\n\u001b[0;32m    227\u001b[0m \u001b[39m# Rot_str = torch.reshape(Rot_str, (3, 3, numOfvoxels))  # Should it be like this?\u001b[39;00m\n\u001b[1;32m--> 229\u001b[0m q_pp \u001b[39m=\u001b[39m torch\u001b[39m.\u001b[39;49mmatmul(Rot_str, unit_q_object)\n\u001b[0;32m    230\u001b[0m cos_theta_sh_cut \u001b[39m=\u001b[39m q_pp[\u001b[39m3\u001b[39m, :, :]\n\u001b[0;32m    231\u001b[0m logging\u001b[39m.\u001b[39mdebug(\u001b[39m\"\u001b[39m\u001b[39mcos_theta_sh_cut shape: \u001b[39m\u001b[39m{}\u001b[39;00m\u001b[39m\"\u001b[39m\u001b[39m.\u001b[39mformat(cos_theta_sh_cut\u001b[39m.\u001b[39mshape))\n",
      "\u001b[1;31mRuntimeError\u001b[0m: mat1 and mat2 shapes cannot be multiplied (9x64 and 3x8)"
     ]
    }
   ],
   "source": [
    "main(theta_struct_it, phi_struct_it, a_temp_it, ny, nx, nz, numOfsegments, current_projection, p, X, Y, Z, numOfpixels, unit_q_beamline, Ylm_coef, find_coefficients, find_orientation, numOfCoeffs, numOfvoxels)"
   ]
  },
  {
   "cell_type": "code",
   "execution_count": null,
   "metadata": {},
   "outputs": [],
   "source": []
  }
 ],
 "metadata": {
  "kernelspec": {
   "display_name": "Python 3.8.13 ('SAXSTT')",
   "language": "python",
   "name": "python3"
  },
  "language_info": {
   "codemirror_mode": {
    "name": "ipython",
    "version": 3
   },
   "file_extension": ".py",
   "mimetype": "text/x-python",
   "name": "python",
   "nbconvert_exporter": "python",
   "pygments_lexer": "ipython3",
   "version": "3.8.13"
  },
  "orig_nbformat": 4,
  "vscode": {
   "interpreter": {
    "hash": "78870d1cbce91eda9675188e6ab147aa27f76fe3d9f15cc56f826954e0ae3aaf"
   }
  }
 },
 "nbformat": 4,
 "nbformat_minor": 2
}
